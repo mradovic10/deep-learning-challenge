{
  "cells": [
    {
      "cell_type": "markdown",
      "metadata": {
        "id": "eWXNZvpNM0Mq"
      },
      "source": [
        "## Preprocessing"
      ]
    },
    {
      "cell_type": "code",
      "execution_count": 1,
      "metadata": {
        "id": "VhVtU8F9M0Mt",
        "outputId": "f7e277a1-2df3-4dbd-8d6c-ad2656a7f336",
        "colab": {
          "base_uri": "https://localhost:8080/",
          "height": 371
        }
      },
      "outputs": [
        {
          "output_type": "execute_result",
          "data": {
            "text/plain": [
              "        EIN                                      NAME APPLICATION_TYPE  \\\n",
              "0  10520599              BLUE KNIGHTS MOTORCYCLE CLUB              T10   \n",
              "1  10531628    AMERICAN CHESAPEAKE CLUB CHARITABLE TR               T3   \n",
              "2  10547893        ST CLOUD PROFESSIONAL FIREFIGHTERS               T5   \n",
              "3  10553066            SOUTHSIDE ATHLETIC ASSOCIATION               T3   \n",
              "4  10556103  GENETIC RESEARCH INSTITUTE OF THE DESERT               T3   \n",
              "\n",
              "        AFFILIATION CLASSIFICATION      USE_CASE  ORGANIZATION  STATUS  \\\n",
              "0       Independent          C1000    ProductDev   Association       1   \n",
              "1       Independent          C2000  Preservation  Co-operative       1   \n",
              "2  CompanySponsored          C3000    ProductDev   Association       1   \n",
              "3  CompanySponsored          C2000  Preservation         Trust       1   \n",
              "4       Independent          C1000     Heathcare         Trust       1   \n",
              "\n",
              "      INCOME_AMT SPECIAL_CONSIDERATIONS  ASK_AMT  IS_SUCCESSFUL  \n",
              "0              0                      N     5000              1  \n",
              "1         1-9999                      N   108590              1  \n",
              "2              0                      N     5000              0  \n",
              "3    10000-24999                      N     6692              1  \n",
              "4  100000-499999                      N   142590              1  "
            ],
            "text/html": [
              "\n",
              "  <div id=\"df-bd3e0764-072b-4e9a-be17-de16b405d236\">\n",
              "    <div class=\"colab-df-container\">\n",
              "      <div>\n",
              "<style scoped>\n",
              "    .dataframe tbody tr th:only-of-type {\n",
              "        vertical-align: middle;\n",
              "    }\n",
              "\n",
              "    .dataframe tbody tr th {\n",
              "        vertical-align: top;\n",
              "    }\n",
              "\n",
              "    .dataframe thead th {\n",
              "        text-align: right;\n",
              "    }\n",
              "</style>\n",
              "<table border=\"1\" class=\"dataframe\">\n",
              "  <thead>\n",
              "    <tr style=\"text-align: right;\">\n",
              "      <th></th>\n",
              "      <th>EIN</th>\n",
              "      <th>NAME</th>\n",
              "      <th>APPLICATION_TYPE</th>\n",
              "      <th>AFFILIATION</th>\n",
              "      <th>CLASSIFICATION</th>\n",
              "      <th>USE_CASE</th>\n",
              "      <th>ORGANIZATION</th>\n",
              "      <th>STATUS</th>\n",
              "      <th>INCOME_AMT</th>\n",
              "      <th>SPECIAL_CONSIDERATIONS</th>\n",
              "      <th>ASK_AMT</th>\n",
              "      <th>IS_SUCCESSFUL</th>\n",
              "    </tr>\n",
              "  </thead>\n",
              "  <tbody>\n",
              "    <tr>\n",
              "      <th>0</th>\n",
              "      <td>10520599</td>\n",
              "      <td>BLUE KNIGHTS MOTORCYCLE CLUB</td>\n",
              "      <td>T10</td>\n",
              "      <td>Independent</td>\n",
              "      <td>C1000</td>\n",
              "      <td>ProductDev</td>\n",
              "      <td>Association</td>\n",
              "      <td>1</td>\n",
              "      <td>0</td>\n",
              "      <td>N</td>\n",
              "      <td>5000</td>\n",
              "      <td>1</td>\n",
              "    </tr>\n",
              "    <tr>\n",
              "      <th>1</th>\n",
              "      <td>10531628</td>\n",
              "      <td>AMERICAN CHESAPEAKE CLUB CHARITABLE TR</td>\n",
              "      <td>T3</td>\n",
              "      <td>Independent</td>\n",
              "      <td>C2000</td>\n",
              "      <td>Preservation</td>\n",
              "      <td>Co-operative</td>\n",
              "      <td>1</td>\n",
              "      <td>1-9999</td>\n",
              "      <td>N</td>\n",
              "      <td>108590</td>\n",
              "      <td>1</td>\n",
              "    </tr>\n",
              "    <tr>\n",
              "      <th>2</th>\n",
              "      <td>10547893</td>\n",
              "      <td>ST CLOUD PROFESSIONAL FIREFIGHTERS</td>\n",
              "      <td>T5</td>\n",
              "      <td>CompanySponsored</td>\n",
              "      <td>C3000</td>\n",
              "      <td>ProductDev</td>\n",
              "      <td>Association</td>\n",
              "      <td>1</td>\n",
              "      <td>0</td>\n",
              "      <td>N</td>\n",
              "      <td>5000</td>\n",
              "      <td>0</td>\n",
              "    </tr>\n",
              "    <tr>\n",
              "      <th>3</th>\n",
              "      <td>10553066</td>\n",
              "      <td>SOUTHSIDE ATHLETIC ASSOCIATION</td>\n",
              "      <td>T3</td>\n",
              "      <td>CompanySponsored</td>\n",
              "      <td>C2000</td>\n",
              "      <td>Preservation</td>\n",
              "      <td>Trust</td>\n",
              "      <td>1</td>\n",
              "      <td>10000-24999</td>\n",
              "      <td>N</td>\n",
              "      <td>6692</td>\n",
              "      <td>1</td>\n",
              "    </tr>\n",
              "    <tr>\n",
              "      <th>4</th>\n",
              "      <td>10556103</td>\n",
              "      <td>GENETIC RESEARCH INSTITUTE OF THE DESERT</td>\n",
              "      <td>T3</td>\n",
              "      <td>Independent</td>\n",
              "      <td>C1000</td>\n",
              "      <td>Heathcare</td>\n",
              "      <td>Trust</td>\n",
              "      <td>1</td>\n",
              "      <td>100000-499999</td>\n",
              "      <td>N</td>\n",
              "      <td>142590</td>\n",
              "      <td>1</td>\n",
              "    </tr>\n",
              "  </tbody>\n",
              "</table>\n",
              "</div>\n",
              "      <button class=\"colab-df-convert\" onclick=\"convertToInteractive('df-bd3e0764-072b-4e9a-be17-de16b405d236')\"\n",
              "              title=\"Convert this dataframe to an interactive table.\"\n",
              "              style=\"display:none;\">\n",
              "        \n",
              "  <svg xmlns=\"http://www.w3.org/2000/svg\" height=\"24px\"viewBox=\"0 0 24 24\"\n",
              "       width=\"24px\">\n",
              "    <path d=\"M0 0h24v24H0V0z\" fill=\"none\"/>\n",
              "    <path d=\"M18.56 5.44l.94 2.06.94-2.06 2.06-.94-2.06-.94-.94-2.06-.94 2.06-2.06.94zm-11 1L8.5 8.5l.94-2.06 2.06-.94-2.06-.94L8.5 2.5l-.94 2.06-2.06.94zm10 10l.94 2.06.94-2.06 2.06-.94-2.06-.94-.94-2.06-.94 2.06-2.06.94z\"/><path d=\"M17.41 7.96l-1.37-1.37c-.4-.4-.92-.59-1.43-.59-.52 0-1.04.2-1.43.59L10.3 9.45l-7.72 7.72c-.78.78-.78 2.05 0 2.83L4 21.41c.39.39.9.59 1.41.59.51 0 1.02-.2 1.41-.59l7.78-7.78 2.81-2.81c.8-.78.8-2.07 0-2.86zM5.41 20L4 18.59l7.72-7.72 1.47 1.35L5.41 20z\"/>\n",
              "  </svg>\n",
              "      </button>\n",
              "      \n",
              "  <style>\n",
              "    .colab-df-container {\n",
              "      display:flex;\n",
              "      flex-wrap:wrap;\n",
              "      gap: 12px;\n",
              "    }\n",
              "\n",
              "    .colab-df-convert {\n",
              "      background-color: #E8F0FE;\n",
              "      border: none;\n",
              "      border-radius: 50%;\n",
              "      cursor: pointer;\n",
              "      display: none;\n",
              "      fill: #1967D2;\n",
              "      height: 32px;\n",
              "      padding: 0 0 0 0;\n",
              "      width: 32px;\n",
              "    }\n",
              "\n",
              "    .colab-df-convert:hover {\n",
              "      background-color: #E2EBFA;\n",
              "      box-shadow: 0px 1px 2px rgba(60, 64, 67, 0.3), 0px 1px 3px 1px rgba(60, 64, 67, 0.15);\n",
              "      fill: #174EA6;\n",
              "    }\n",
              "\n",
              "    [theme=dark] .colab-df-convert {\n",
              "      background-color: #3B4455;\n",
              "      fill: #D2E3FC;\n",
              "    }\n",
              "\n",
              "    [theme=dark] .colab-df-convert:hover {\n",
              "      background-color: #434B5C;\n",
              "      box-shadow: 0px 1px 3px 1px rgba(0, 0, 0, 0.15);\n",
              "      filter: drop-shadow(0px 1px 2px rgba(0, 0, 0, 0.3));\n",
              "      fill: #FFFFFF;\n",
              "    }\n",
              "  </style>\n",
              "\n",
              "      <script>\n",
              "        const buttonEl =\n",
              "          document.querySelector('#df-bd3e0764-072b-4e9a-be17-de16b405d236 button.colab-df-convert');\n",
              "        buttonEl.style.display =\n",
              "          google.colab.kernel.accessAllowed ? 'block' : 'none';\n",
              "\n",
              "        async function convertToInteractive(key) {\n",
              "          const element = document.querySelector('#df-bd3e0764-072b-4e9a-be17-de16b405d236');\n",
              "          const dataTable =\n",
              "            await google.colab.kernel.invokeFunction('convertToInteractive',\n",
              "                                                     [key], {});\n",
              "          if (!dataTable) return;\n",
              "\n",
              "          const docLinkHtml = 'Like what you see? Visit the ' +\n",
              "            '<a target=\"_blank\" href=https://colab.research.google.com/notebooks/data_table.ipynb>data table notebook</a>'\n",
              "            + ' to learn more about interactive tables.';\n",
              "          element.innerHTML = '';\n",
              "          dataTable['output_type'] = 'display_data';\n",
              "          await google.colab.output.renderOutput(dataTable, element);\n",
              "          const docLink = document.createElement('div');\n",
              "          docLink.innerHTML = docLinkHtml;\n",
              "          element.appendChild(docLink);\n",
              "        }\n",
              "      </script>\n",
              "    </div>\n",
              "  </div>\n",
              "  "
            ]
          },
          "metadata": {},
          "execution_count": 1
        }
      ],
      "source": [
        "# Import our dependencies.\n",
        "from sklearn.model_selection import train_test_split\n",
        "from sklearn.preprocessing import StandardScaler\n",
        "import pandas as pd\n",
        "import tensorflow as tf\n",
        "\n",
        "#  Import and read the charity_data.csv.\n",
        "application_df = pd.read_csv(\"https://static.bc-edx.com/data/dl-1-2/m21/lms/starter/charity_data.csv\")\n",
        "application_df.head()"
      ]
    },
    {
      "cell_type": "code",
      "execution_count": 2,
      "metadata": {
        "id": "jjU30U1fM0Mv",
        "colab": {
          "base_uri": "https://localhost:8080/",
          "height": 81
        },
        "outputId": "b08537db-0bae-4f6d-f95a-0c6ff91d3910"
      },
      "outputs": [
        {
          "output_type": "execute_result",
          "data": {
            "text/plain": [
              "  APPLICATION_TYPE  AFFILIATION CLASSIFICATION    USE_CASE ORGANIZATION  \\\n",
              "0              T10  Independent          C1000  ProductDev  Association   \n",
              "\n",
              "  INCOME_AMT  ASK_AMT  IS_SUCCESSFUL  \n",
              "0          0     5000              1  "
            ],
            "text/html": [
              "\n",
              "  <div id=\"df-1d70b4d0-2ae4-4317-97a4-b38d61a96f20\">\n",
              "    <div class=\"colab-df-container\">\n",
              "      <div>\n",
              "<style scoped>\n",
              "    .dataframe tbody tr th:only-of-type {\n",
              "        vertical-align: middle;\n",
              "    }\n",
              "\n",
              "    .dataframe tbody tr th {\n",
              "        vertical-align: top;\n",
              "    }\n",
              "\n",
              "    .dataframe thead th {\n",
              "        text-align: right;\n",
              "    }\n",
              "</style>\n",
              "<table border=\"1\" class=\"dataframe\">\n",
              "  <thead>\n",
              "    <tr style=\"text-align: right;\">\n",
              "      <th></th>\n",
              "      <th>APPLICATION_TYPE</th>\n",
              "      <th>AFFILIATION</th>\n",
              "      <th>CLASSIFICATION</th>\n",
              "      <th>USE_CASE</th>\n",
              "      <th>ORGANIZATION</th>\n",
              "      <th>INCOME_AMT</th>\n",
              "      <th>ASK_AMT</th>\n",
              "      <th>IS_SUCCESSFUL</th>\n",
              "    </tr>\n",
              "  </thead>\n",
              "  <tbody>\n",
              "    <tr>\n",
              "      <th>0</th>\n",
              "      <td>T10</td>\n",
              "      <td>Independent</td>\n",
              "      <td>C1000</td>\n",
              "      <td>ProductDev</td>\n",
              "      <td>Association</td>\n",
              "      <td>0</td>\n",
              "      <td>5000</td>\n",
              "      <td>1</td>\n",
              "    </tr>\n",
              "  </tbody>\n",
              "</table>\n",
              "</div>\n",
              "      <button class=\"colab-df-convert\" onclick=\"convertToInteractive('df-1d70b4d0-2ae4-4317-97a4-b38d61a96f20')\"\n",
              "              title=\"Convert this dataframe to an interactive table.\"\n",
              "              style=\"display:none;\">\n",
              "        \n",
              "  <svg xmlns=\"http://www.w3.org/2000/svg\" height=\"24px\"viewBox=\"0 0 24 24\"\n",
              "       width=\"24px\">\n",
              "    <path d=\"M0 0h24v24H0V0z\" fill=\"none\"/>\n",
              "    <path d=\"M18.56 5.44l.94 2.06.94-2.06 2.06-.94-2.06-.94-.94-2.06-.94 2.06-2.06.94zm-11 1L8.5 8.5l.94-2.06 2.06-.94-2.06-.94L8.5 2.5l-.94 2.06-2.06.94zm10 10l.94 2.06.94-2.06 2.06-.94-2.06-.94-.94-2.06-.94 2.06-2.06.94z\"/><path d=\"M17.41 7.96l-1.37-1.37c-.4-.4-.92-.59-1.43-.59-.52 0-1.04.2-1.43.59L10.3 9.45l-7.72 7.72c-.78.78-.78 2.05 0 2.83L4 21.41c.39.39.9.59 1.41.59.51 0 1.02-.2 1.41-.59l7.78-7.78 2.81-2.81c.8-.78.8-2.07 0-2.86zM5.41 20L4 18.59l7.72-7.72 1.47 1.35L5.41 20z\"/>\n",
              "  </svg>\n",
              "      </button>\n",
              "      \n",
              "  <style>\n",
              "    .colab-df-container {\n",
              "      display:flex;\n",
              "      flex-wrap:wrap;\n",
              "      gap: 12px;\n",
              "    }\n",
              "\n",
              "    .colab-df-convert {\n",
              "      background-color: #E8F0FE;\n",
              "      border: none;\n",
              "      border-radius: 50%;\n",
              "      cursor: pointer;\n",
              "      display: none;\n",
              "      fill: #1967D2;\n",
              "      height: 32px;\n",
              "      padding: 0 0 0 0;\n",
              "      width: 32px;\n",
              "    }\n",
              "\n",
              "    .colab-df-convert:hover {\n",
              "      background-color: #E2EBFA;\n",
              "      box-shadow: 0px 1px 2px rgba(60, 64, 67, 0.3), 0px 1px 3px 1px rgba(60, 64, 67, 0.15);\n",
              "      fill: #174EA6;\n",
              "    }\n",
              "\n",
              "    [theme=dark] .colab-df-convert {\n",
              "      background-color: #3B4455;\n",
              "      fill: #D2E3FC;\n",
              "    }\n",
              "\n",
              "    [theme=dark] .colab-df-convert:hover {\n",
              "      background-color: #434B5C;\n",
              "      box-shadow: 0px 1px 3px 1px rgba(0, 0, 0, 0.15);\n",
              "      filter: drop-shadow(0px 1px 2px rgba(0, 0, 0, 0.3));\n",
              "      fill: #FFFFFF;\n",
              "    }\n",
              "  </style>\n",
              "\n",
              "      <script>\n",
              "        const buttonEl =\n",
              "          document.querySelector('#df-1d70b4d0-2ae4-4317-97a4-b38d61a96f20 button.colab-df-convert');\n",
              "        buttonEl.style.display =\n",
              "          google.colab.kernel.accessAllowed ? 'block' : 'none';\n",
              "\n",
              "        async function convertToInteractive(key) {\n",
              "          const element = document.querySelector('#df-1d70b4d0-2ae4-4317-97a4-b38d61a96f20');\n",
              "          const dataTable =\n",
              "            await google.colab.kernel.invokeFunction('convertToInteractive',\n",
              "                                                     [key], {});\n",
              "          if (!dataTable) return;\n",
              "\n",
              "          const docLinkHtml = 'Like what you see? Visit the ' +\n",
              "            '<a target=\"_blank\" href=https://colab.research.google.com/notebooks/data_table.ipynb>data table notebook</a>'\n",
              "            + ' to learn more about interactive tables.';\n",
              "          element.innerHTML = '';\n",
              "          dataTable['output_type'] = 'display_data';\n",
              "          await google.colab.output.renderOutput(dataTable, element);\n",
              "          const docLink = document.createElement('div');\n",
              "          docLink.innerHTML = docLinkHtml;\n",
              "          element.appendChild(docLink);\n",
              "        }\n",
              "      </script>\n",
              "    </div>\n",
              "  </div>\n",
              "  "
            ]
          },
          "metadata": {},
          "execution_count": 2
        }
      ],
      "source": [
        "# Drop the non-beneficial ID columns, 'EIN' and 'NAME', as well as the 'STATUS' and 'SPECIAL_CONSIDERATIONS' columns.\n",
        "application_df = application_df.drop(columns=['EIN', 'NAME', 'SPECIAL_CONSIDERATIONS', 'STATUS'])\n",
        "application_df.head(1)"
      ]
    },
    {
      "cell_type": "code",
      "execution_count": 3,
      "metadata": {
        "id": "yH0TeGkHM0Mv",
        "outputId": "f078dc14-197b-4517-8f11-91cfd9921c4b",
        "colab": {
          "base_uri": "https://localhost:8080/"
        }
      },
      "outputs": [
        {
          "output_type": "execute_result",
          "data": {
            "text/plain": [
              "APPLICATION_TYPE      17\n",
              "AFFILIATION            6\n",
              "CLASSIFICATION        71\n",
              "USE_CASE               5\n",
              "ORGANIZATION           4\n",
              "INCOME_AMT             9\n",
              "ASK_AMT             8747\n",
              "IS_SUCCESSFUL          2\n",
              "dtype: int64"
            ]
          },
          "metadata": {},
          "execution_count": 3
        }
      ],
      "source": [
        "# Determine the number of unique values in each column.\n",
        "application_df.nunique()"
      ]
    },
    {
      "cell_type": "code",
      "execution_count": 4,
      "metadata": {
        "id": "6m8_ExXYM0Mv",
        "outputId": "c4c2b451-9f5a-4574-9d8f-61cd65b81573",
        "colab": {
          "base_uri": "https://localhost:8080/"
        }
      },
      "outputs": [
        {
          "output_type": "execute_result",
          "data": {
            "text/plain": [
              "T3     27037\n",
              "T4      1542\n",
              "T6      1216\n",
              "T5      1173\n",
              "T19     1065\n",
              "T8       737\n",
              "T7       725\n",
              "T10      528\n",
              "T9       156\n",
              "T13       66\n",
              "T12       27\n",
              "T2        16\n",
              "T25        3\n",
              "T14        3\n",
              "T29        2\n",
              "T15        2\n",
              "T17        1\n",
              "Name: APPLICATION_TYPE, dtype: int64"
            ]
          },
          "metadata": {},
          "execution_count": 4
        }
      ],
      "source": [
        "# Look at APPLICATION_TYPE value counts for binning.\n",
        "application_df['APPLICATION_TYPE'].value_counts()"
      ]
    },
    {
      "cell_type": "code",
      "execution_count": 5,
      "metadata": {
        "id": "a4vPA-CoM0Mw",
        "outputId": "44572233-21d4-464f-f2ab-82472b3633e7",
        "colab": {
          "base_uri": "https://localhost:8080/"
        }
      },
      "outputs": [
        {
          "output_type": "execute_result",
          "data": {
            "text/plain": [
              "T3       27037\n",
              "T4        1542\n",
              "T6        1216\n",
              "T5        1173\n",
              "T19       1065\n",
              "T8         737\n",
              "T7         725\n",
              "T10        528\n",
              "Other      276\n",
              "Name: APPLICATION_TYPE, dtype: int64"
            ]
          },
          "metadata": {},
          "execution_count": 5
        }
      ],
      "source": [
        "# Choose a cutoff value and create a list of application types to be replaced.\n",
        "# Use the variable name `application_types_to_replace`.\n",
        "application_types_to_replace = application_df['APPLICATION_TYPE'].value_counts()[application_df['APPLICATION_TYPE'].value_counts() < 200].index.tolist()\n",
        "\n",
        "# Replace in Dataframe.\n",
        "for app in application_types_to_replace:\n",
        "    application_df['APPLICATION_TYPE'] = application_df['APPLICATION_TYPE'].replace(app, 'Other')\n",
        "\n",
        "# Check to make sure binning was successful.\n",
        "application_df['APPLICATION_TYPE'].value_counts()"
      ]
    },
    {
      "cell_type": "code",
      "execution_count": 6,
      "metadata": {
        "id": "JpPB-xoxM0Mw",
        "outputId": "02675e0a-0da1-4db3-a31c-58c719a3cbaa",
        "colab": {
          "base_uri": "https://localhost:8080/"
        }
      },
      "outputs": [
        {
          "output_type": "execute_result",
          "data": {
            "text/plain": [
              "C1000    17326\n",
              "C2000     6074\n",
              "C1200     4837\n",
              "C3000     1918\n",
              "C2100     1883\n",
              "         ...  \n",
              "C4120        1\n",
              "C8210        1\n",
              "C2561        1\n",
              "C4500        1\n",
              "C2150        1\n",
              "Name: CLASSIFICATION, Length: 71, dtype: int64"
            ]
          },
          "metadata": {},
          "execution_count": 6
        }
      ],
      "source": [
        "# Look at CLASSIFICATION value counts for binning.\n",
        "application_df['CLASSIFICATION'].value_counts()"
      ]
    },
    {
      "cell_type": "code",
      "execution_count": 7,
      "metadata": {
        "id": "i7pmpp8TM0Mw",
        "outputId": "871e2330-4e43-490c-ec1e-d1ae1ea055bd",
        "colab": {
          "base_uri": "https://localhost:8080/"
        }
      },
      "outputs": [
        {
          "output_type": "execute_result",
          "data": {
            "text/plain": [
              "C1000    17326\n",
              "C2000     6074\n",
              "C1200     4837\n",
              "C3000     1918\n",
              "C2100     1883\n",
              "C7000      777\n",
              "C1700      287\n",
              "C4000      194\n",
              "C5000      116\n",
              "C1270      114\n",
              "C2700      104\n",
              "C2800       95\n",
              "C7100       75\n",
              "C1300       58\n",
              "C1280       50\n",
              "C1230       36\n",
              "C1400       34\n",
              "C7200       32\n",
              "C2300       32\n",
              "C1240       30\n",
              "C8000       20\n",
              "C7120       18\n",
              "C1500       16\n",
              "C1800       15\n",
              "C6000       15\n",
              "C1250       14\n",
              "C8200       11\n",
              "C1238       10\n",
              "C1278       10\n",
              "C1235        9\n",
              "C1237        9\n",
              "C7210        7\n",
              "C2400        6\n",
              "C1720        6\n",
              "C4100        6\n",
              "C1257        5\n",
              "C1600        5\n",
              "C1260        3\n",
              "C2710        3\n",
              "C0           3\n",
              "C3200        2\n",
              "C1234        2\n",
              "C1246        2\n",
              "C1267        2\n",
              "C1256        2\n",
              "Name: CLASSIFICATION, dtype: int64"
            ]
          },
          "metadata": {},
          "execution_count": 7
        }
      ],
      "source": [
        "# You may find it helpful to look at CLASSIFICATION value counts >1.\n",
        "application_df['CLASSIFICATION'].value_counts()[application_df['CLASSIFICATION'].value_counts() > 1]"
      ]
    },
    {
      "cell_type": "code",
      "execution_count": 8,
      "metadata": {
        "id": "d8UB-UulM0Mx",
        "outputId": "1b8e7cb6-3163-4267-c5fc-466ae83762ae",
        "colab": {
          "base_uri": "https://localhost:8080/"
        }
      },
      "outputs": [
        {
          "output_type": "execute_result",
          "data": {
            "text/plain": [
              "C1000    17326\n",
              "C2000     6074\n",
              "C1200     4837\n",
              "Other     2261\n",
              "C3000     1918\n",
              "C2100     1883\n",
              "Name: CLASSIFICATION, dtype: int64"
            ]
          },
          "metadata": {},
          "execution_count": 8
        }
      ],
      "source": [
        "# Choose a cutoff value and create a list of classifications to be replaced.\n",
        "# use the variable name `classifications_to_replace`.\n",
        "classifications_to_replace = application_df['CLASSIFICATION'].value_counts()[application_df['CLASSIFICATION'].value_counts() < 1000].index.tolist()\n",
        "\n",
        "# Replace in Dataframe.\n",
        "for cls in classifications_to_replace:\n",
        "    application_df['CLASSIFICATION'] = application_df['CLASSIFICATION'].replace(cls, 'Other')\n",
        "    \n",
        "# Check to make sure binning was successful.\n",
        "application_df['CLASSIFICATION'].value_counts()"
      ]
    },
    {
      "cell_type": "code",
      "source": [
        "# Create an empty list to hold our possible outliers.\n",
        "outliers = []\n",
        "\n",
        "# Calculate the IQR and quantitatively determine if there are any potential outliers in the 'ASK_AMT' column.\n",
        "quartiles = application_df['ASK_AMT'].quantile([.25, .5, .75])\n",
        "lowerq = quartiles[0.25]\n",
        "upperq = quartiles[0.75]\n",
        "iqr = upperq - lowerq \n",
        "lower_bound = lowerq - (1.5 * iqr)\n",
        "upper_bound = upperq + (1.5 * iqr)"
      ],
      "metadata": {
        "id": "jTcyZhybMpzt"
      },
      "execution_count": 9,
      "outputs": []
    },
    {
      "cell_type": "code",
      "source": [
        "# Determine outliers using upper and lower bounds.\n",
        "for i in application_df['ASK_AMT']:\n",
        "    if (i < lower_bound) | (i > upper_bound):\n",
        "        outliers.append(i)\n",
        "\n",
        "# Print out all the possible outliers.\n",
        "print(f'Count: {len(outliers)}, Potential outliers: {outliers}')"
      ],
      "metadata": {
        "colab": {
          "base_uri": "https://localhost:8080/"
        },
        "id": "r8xzHtChN7wu",
        "outputId": "7e1f978b-3ecd-4743-9259-b71da9c3bf93"
      },
      "execution_count": 10,
      "outputs": [
        {
          "output_type": "stream",
          "name": "stdout",
          "text": [
            "Count: 8206, Potential outliers: [108590, 142590, 31452, 7508025, 94389, 69656, 165593, 86380556, 376109, 318296, 44004, 323466, 709815, 1329410, 31613, 1549352, 577113, 44623, 64868, 131620, 306133, 66916, 236206, 393704, 9955466, 94869, 36607, 484855, 137272, 101980, 4410503, 15477, 24211, 638229, 20520, 34879, 205120, 12829, 452970, 72961, 12860, 696502, 259589, 49112, 86584, 4108874, 25175802, 132449, 73686, 723426, 521883, 855350, 370941, 1728949, 287332, 1790960, 23799, 201655, 27285052, 74643, 640921, 2705244, 2770474, 61686, 1064584, 25736, 17512616, 39064, 67654, 139694, 212362, 87981, 16027, 1066994, 107484, 20380, 293732, 2471994, 2793433, 324268, 343650, 497726, 28993, 118358, 2257305, 64723, 403069, 329188, 180240, 47901, 23322, 102050, 25846, 10935786, 1562336, 281725, 122937, 12753, 410463, 38286, 22527, 47129, 966422, 718228, 2461713, 876484, 14698, 110885, 64075, 78769, 2908673, 216643, 16221, 140950, 3676333, 30079, 98931, 12509, 20770, 118386, 120281, 71609, 155956, 176563, 977905, 64035, 34914, 1019926, 1202409, 540615, 2205817, 13201, 70786, 43808, 240757, 27001, 49983, 90657, 36355, 22840, 215957, 805021, 2238748, 13541, 410489, 340393, 195884, 84674, 3032675, 51846, 990952, 52853, 21590, 54922, 24773, 199269, 59647, 199400, 5003439, 73046, 114797, 872138, 101742, 16626, 13499, 27863219, 247168896, 406966250, 296261, 5110425, 114990, 18006, 267048, 29219, 306719, 148943, 64047, 355396, 32792, 334025, 171405, 158003, 424802, 27255, 4547683, 37597, 37875, 21636, 351108, 1572972, 11207593, 1736232349, 218627, 3149430, 561758, 33532, 46555, 16642, 337373, 19343, 2641513, 41553, 221007, 17725, 64591, 1469041, 193098, 130575, 17536, 50890, 88085, 1755888, 36042, 51536, 21573, 143157, 515121, 31805, 72910, 161116, 83705, 1326447551, 2169178, 510659, 85111, 27625, 45937, 3927283, 542425, 15532, 1081788, 184668, 12948, 55841, 38801, 32069, 297391, 1148719, 18407, 40361, 173945, 692776, 206768445, 50845, 273659, 1318898, 243191, 67177, 126282, 1382305, 14855, 286485, 862716, 197647, 370327, 18980, 67988, 85654, 2822776, 21998, 30819, 19147, 5963545, 1456782, 986887, 43814, 57048, 90402, 2268394, 37422, 5607658, 53520, 127888, 23283, 18063, 2558904, 723594, 61486, 41606, 97065, 67621, 43825, 2450743, 1700814, 29322, 11912, 250525, 52018, 769558, 123699, 704190, 95171, 41142, 107523, 125348, 37288, 206306, 24695, 1266205, 245327, 229656, 59945, 264341, 708953, 33785, 180377, 52085, 24264, 241064, 479604, 105796, 97412, 400525, 28355127, 34527, 20248, 248986, 19250, 670715, 47544, 60132, 172372, 179753, 2172986, 4406697, 6948863, 3791768, 3238588, 233352, 981686, 21925, 40165, 29993, 283145, 102142, 138654, 272162, 156441, 1409419, 571694, 28311, 174326, 873714, 97235, 303322, 105468, 2351704, 79178, 253698, 1852920, 182021, 192549, 217326, 449792, 13947, 38914, 252988, 23202, 64112, 57188, 148625, 19293, 25081, 22377, 539801, 324991, 165601, 6052968, 32979, 316048, 149959, 68522, 2848886, 3951532, 88684, 671931, 67806, 7029451, 471200, 152326, 421216, 212199, 379417, 13903, 47931, 810262, 30927, 206725, 396513, 14052, 242686, 199909, 1376731, 630158, 564743, 60005, 245852, 102872, 23060, 315522, 62979, 310914, 5171512, 317087, 247467, 40500, 4635773, 21676, 26395, 78620, 254234, 4563468, 1867182, 121397, 4003110, 96978, 31274, 160120, 440238, 14544, 1414700, 336364, 178636, 108665, 4952195, 352484, 58391, 18234620, 48144, 76089, 1373450, 20501, 34099, 32436777, 64471, 249192, 31417, 94686, 16071, 24154, 63520, 24262, 115467, 20792, 196755, 1439275, 29208, 85706, 27901, 74145, 308917, 134446, 367230, 51572, 54093, 51884, 209474, 155728, 273080, 16025, 226145, 108596, 24000, 46322, 880872, 36545, 21108, 10409732, 109640, 87936, 555317, 7042883, 210410, 440955, 112209, 26572, 39578, 129543, 15561, 32153, 148812, 94563, 1832610, 114666, 63601, 692195, 413146, 69882, 44071, 55682, 26222, 6687413, 896924, 31453, 34713, 67455, 73360, 9085030, 3852170, 894372, 133633, 53859, 279947, 4700938, 15884, 146824, 830849, 89765, 98455, 12178, 408998, 49885, 2439618, 25845, 20227, 122404, 242930, 575558, 148782, 1501360, 126245, 71619, 15486, 21061, 127711, 208546, 51752, 30991, 84693, 33065, 47333, 15898330, 200515, 72923, 371186, 208763, 83506, 21473, 106471, 86228, 47153, 18737000, 1306054, 68575, 73903, 19384, 61503, 113665, 177405, 113431, 34293, 2232703, 110251, 8231244, 25403, 106670, 27452, 55635, 26485, 184658, 216138, 137539, 24442, 260106, 406496, 74485, 37629, 206896, 43402310, 77221, 17808, 50950, 86405, 23180, 587412, 345585, 600251, 510500, 19226, 85339, 40463, 32645, 68450, 159448, 1221748, 154971, 15556, 98571, 47496, 6475807, 46187, 498118, 272976, 104684, 77786, 128093, 149850, 16749, 15583, 5431137, 1202568, 85536, 115459, 181300, 439280, 148270, 197847, 125085, 1030583, 6056219, 150599, 114864, 120652, 5748987, 78270, 50187, 36908, 138785, 69611, 46947, 19267, 32507, 201112, 67065, 14026, 13704, 254402, 38722, 77228, 63973, 80498, 1714581, 104319, 958650, 25446, 48928, 87573, 73602, 19443, 48239, 41425, 119404, 870321, 90748, 368560, 46332, 103242, 30577, 133975, 73978, 80876, 41124, 128124, 314822, 165779, 4289055, 215004, 1075829, 22051, 20696, 345299, 293843785, 24473, 365374, 197916, 3760600, 47129, 3197302, 155755, 531999, 221356, 16658, 39586, 25840, 43359, 29688, 6867895, 84051, 116643, 39121, 108972, 15897, 121948, 46311, 1535977, 41195, 77706, 1305570, 637790, 14578, 54050, 137808, 16093, 319808, 43011, 2295855, 13681, 26402, 16006, 12453, 36091, 24500, 33553, 77542, 108304, 84694, 39776, 19513, 193133, 32230, 27002, 68214, 327518, 451503, 49838, 1159036, 504714, 113946, 45219, 20052, 44759, 322853, 15924, 122424, 32086541, 1284775, 59246, 1070145, 4413025, 138915, 29671, 13179, 37291, 15942, 192852, 158657, 55355, 12983, 88551, 103784, 233593, 2705160, 479388, 34331, 74768, 680122, 31273, 7191095, 42471, 11810618, 305280, 465844, 529711, 804182, 1893155, 411012, 2726901, 209907, 71632, 3791019, 68379, 4408954, 14400, 26014, 78516, 685492, 171020, 119692, 17608, 44863, 284605, 38379, 243034, 157799, 2996256, 29072, 38332, 75204, 1876223, 12695, 40573, 36184, 505827, 23945, 25667, 6455591, 317485, 148860, 34546, 2423391, 10020023, 419614, 2989106, 377690, 226107, 268723, 930070, 6652252, 17337991, 137684, 970428, 312243, 731211, 17675, 30401, 3590186, 186216, 31443, 158593, 203157, 13787, 15738, 27669, 59678, 96173, 1064199, 135827, 3116825, 99498, 3697658, 20920, 240780, 320602, 62579, 11066015, 61310, 97625, 45827, 15449, 466780, 1294885, 6155271, 88649, 350000, 531467, 182104767, 4553623, 273261, 150227, 13158, 152180, 101578, 63652, 91070, 3313049, 743072, 44298, 184556, 441794, 77638, 3143379, 43815, 120578, 398096, 2154645, 16781, 230958, 150379, 6488338, 12449684, 88953, 70116, 33352, 17881, 72009, 90532, 35686, 71875, 16064, 25686, 140137, 17273, 54611, 185323, 472824, 613578, 46416, 1038396, 86877685, 52111, 119353, 15546, 97528, 138240, 25158, 149362, 73025, 88151, 210463, 79095, 69620, 2791183, 120568, 143458, 38651, 41256, 3156412, 151946, 851111, 2398070, 130067, 51405, 18228, 30240, 41593, 83302, 31858, 18883, 131125, 46083, 42955, 527147, 1833229, 1382526, 901267, 85075, 1104947, 642628, 81238, 263230, 1833208, 788301, 246675, 1012207, 1619419, 36819, 18561, 34132, 2302183, 93481, 29197, 2236526, 20853, 238933, 458048, 783304, 55832, 72403, 36768, 168491, 59929, 18281511, 55967, 190036, 186990, 84287, 530964, 110182, 36587, 24147, 21331, 35133, 144225, 17573737, 20360, 682012, 58258, 26115, 21132, 103405, 85672957, 116206, 33342, 316589, 91887, 262570, 464269, 91703, 340430, 377132, 1714009, 57339, 603614, 562990, 62105, 79270, 1183590, 74872, 2933295, 20761, 1299813, 32576, 29866, 101371, 183715, 4469750, 129479, 132014, 152923, 278158, 36995, 177570, 119378, 37580, 138640, 18484, 21008, 271047, 91812, 167464, 335635, 330137, 2217466, 26648, 44989, 278890, 80229, 460342, 733183, 52985, 47133, 100000, 38813, 20755, 226130, 34165, 1060218, 50634, 62392, 1230306, 116261, 35974, 73607, 193345, 25952, 13758, 475196, 136966, 23244, 49898, 43768, 227213, 87799, 642124, 117020, 31313, 78605, 345715, 34921, 64432, 30189, 298158, 401701, 79963, 713766, 122705, 39661, 26814, 32658, 126439, 80179, 157890, 148453, 1185655, 54805, 36921, 127341, 208206, 12316, 190385, 27409, 37887, 30894, 19544, 678841, 68922, 549640, 15254, 37390, 25523, 24714, 13682, 4164921, 29875, 34027, 34538, 12909, 352587, 3144439, 44894, 18746495, 168283, 51755, 51810, 35533, 60104, 2439080, 23237, 101564, 2352271, 72398, 276231, 39125, 84512, 85982, 13071, 232464, 827594, 728942, 30813, 90764, 290576, 16953, 55342, 10782863, 48368, 59848, 4546312, 1153292, 25885, 16572, 41894, 17148, 45212, 241949, 81681, 41868, 55206, 740337, 9641341, 23632, 19354, 55038, 546322, 159223, 162431, 374012, 45263, 462983, 267040, 217029, 800057, 46665, 21915, 12089, 4759990, 24317, 118689, 779507, 45122, 57285, 33340, 140627, 20365996, 95689, 196881, 48589, 65882, 13800, 7192933, 654616, 592121, 21765, 65587, 143866, 107768, 52479, 69213, 35454, 310988, 158780, 177947, 632527, 49150, 1209489, 1244106, 1407996, 24927, 11964178, 52687, 22874, 304805, 393528, 25544, 20654, 19761, 428551, 302063, 139794, 129390, 85480, 59644, 32393824, 4149537, 679397, 31789, 52844, 40794, 22058, 10785562, 111608, 63292, 23693, 387116, 103106, 16983, 37520, 124214, 163796, 97474, 25282, 3233726, 62418, 161065, 115891, 753377, 28047, 193512, 3240025, 31549, 13371, 42117901, 59611, 51145, 1573703, 51287, 409019, 12722, 4045122, 1893134, 782839, 1110046, 994372, 36821, 26098, 34995, 34404, 67329, 38282, 247135, 44715, 26158, 44774, 29952, 35303, 3418896, 197870, 289489, 39393, 15648, 2587409, 1618546, 729122, 432109, 576023, 400884, 55112, 253918, 556159, 545288, 3626986, 8681872, 33128, 681503, 157751, 70805, 72872, 1145771, 363063, 436453, 332709, 117093, 327273, 4787305, 31635, 25424, 11901, 106237, 7579957, 124251, 88827, 43814, 17614, 76919, 165807, 5198513, 15969, 49933, 334963, 65552, 104672, 62453, 145895, 13564, 136507, 1074904, 71897, 95875, 563908, 52154, 53456, 57650, 23198, 12647485, 105748, 21163, 298819, 64052, 83559, 7344588, 1026851, 219502, 23769, 16805, 58733, 15728, 763043, 23021, 28565, 306251, 39617, 13852, 72345, 62348, 3962053, 39787, 46167, 195209, 522186, 46045, 64989, 81343, 95697, 18176, 5472143, 214673082, 87436, 42386, 18852, 173743, 105916, 1159240, 28314, 25223, 715959, 184106, 99545, 27254, 39123, 200640, 35523, 127608, 481350, 169231, 158802, 868603, 1537189, 50598, 50114, 64963, 56968, 20956, 71368, 100856, 24548, 389542, 263423, 171489, 43059, 460374, 12375, 1494638, 29541, 13680015, 77410, 46695, 61731, 35514, 150051, 91462, 810477, 22392, 20807, 16538, 46463, 193314, 1433936, 140853, 16651, 129449, 17656, 6720975, 4712350, 64854, 31887, 77102, 14561, 75579, 272838, 603091, 524868, 145564, 970099, 40540, 18629, 58535, 20992, 14672, 34582, 15849, 857973, 23256, 84256, 889442, 838246, 769233, 165889, 138625, 41989, 54668, 229679, 155481, 261414, 90624, 77369, 189080, 58368, 94597, 35734, 40551, 19921, 199486, 89781, 797943, 36734, 20150, 33420, 15239, 20953, 29753, 38418, 64665, 20396, 162211, 15282, 1262197, 235454, 99879, 487989, 45100, 137399, 66898, 66164, 19456, 1889982, 36950, 66761, 202956, 100886, 93672, 418545, 963744, 1350876, 117333, 373101, 145528, 634245, 169013, 14072, 72053, 50936, 573624, 52754, 36458138, 230372, 34555, 51149, 39765, 944191, 154616, 18260, 36965, 32932, 96438, 95141, 519835, 373534, 18015, 3824529, 51655, 1226452, 124800, 21199, 185947, 5043742, 43744, 5611267, 166210, 29588, 4810343, 37226, 14443, 45528, 30105, 23708, 23882, 853223, 59716, 3417485, 30769, 38655, 32636, 1091854, 22614, 56642, 466834, 20194, 264696, 405872, 82193, 65337, 57760, 3756790, 205988, 102375, 69040, 64597, 147490, 46982, 163378, 32303, 24145, 28130, 14736510, 415113, 25632, 133124, 3610574, 31664752, 40643, 19738, 91474, 457849, 287879, 5064445, 50121229, 3325383, 344188, 1358049, 44311553, 60000, 446689, 985182, 8027933, 342077, 83868, 684159, 40429, 596518, 127908, 59100, 252937, 61618, 54196, 88047, 62925, 153823, 57588, 402075, 60860, 16819, 123807, 509501, 20537, 6692638, 36855, 163636, 13098, 149032, 307767, 195224, 30158, 28627, 153009, 47140, 120765, 1094323, 33269, 29312, 151308, 2122538, 33232, 596463, 281714, 119950, 290292, 41803, 19259, 364058, 82694, 74469, 13182, 41054, 338878, 393958, 47180, 141250, 108346, 58374, 623969, 1007297, 519206, 1322134, 237393, 1100212, 13823, 28168, 34875, 17354, 42145, 36521, 174511, 17738, 66072, 32409, 19808, 25455, 93685, 144237, 194164, 83523, 48069, 117096, 412034, 4475688, 26265, 148887, 24506, 186577, 26724, 105304, 27257, 64658, 56616, 365306, 45598, 13345, 94080, 5459683, 1137790, 48700, 132423, 474842, 20122, 21085, 153599, 150137, 35943, 2237054, 49181, 67466, 1247415, 89909, 37240, 75239, 22336, 44891, 743056, 28135, 34264, 29449, 32141, 105653, 61253, 17719, 1664700, 80111, 11231460, 277750, 27073, 39416, 55408, 73442, 95160, 564233, 63113, 107120, 96445, 65453, 44679, 228633, 213285, 17356, 39248, 53251, 452371, 64236, 29568, 39622, 282565, 37065, 5590759, 33169, 631745, 169911, 291046, 78378, 168113, 428373, 122174, 406654, 30112, 500986, 25001, 18479, 27019, 31165, 38377, 59985, 358706, 80914, 6357840, 325564, 40448, 148892, 23293, 3175628, 174968, 28374, 437716, 295204, 42788, 105801, 33061764, 880726, 1737054, 1321888, 92059, 77966, 14068, 138423, 413761, 310009, 1018406, 168922, 43226, 12026, 64384, 155619, 61521, 40138, 50087, 94055, 20261, 70743, 117619, 67153, 131130, 140630, 33987, 24105, 303958, 176954, 141377, 20071, 81722, 15568, 480212, 335772, 99982, 2543496, 103375, 60291, 18068, 47760, 113260, 103403, 1059109, 455608, 32717, 2043742, 62809, 191497, 69257, 73560, 66527, 28536, 83866, 69200, 17195, 62950, 233969, 63598, 371751, 323665, 20804, 58190, 167280, 16109, 6162396, 830297, 14902781, 35185, 80447, 163732, 1176608, 35366, 20340, 22186, 1353449, 34135, 955652, 445500, 229194, 63560, 26585, 1301428, 149061, 44889, 333775, 141830, 76474, 1102933, 102826, 137567, 16303, 224749, 38957, 1375692, 6865255, 157471, 256521, 13931, 49054, 393407, 32365573, 66476, 478556, 710536, 36860, 73725, 274253, 56846, 44523, 154939, 63722, 156093, 446013, 136909, 21481, 35416, 31230, 31807, 31875, 77752, 243918, 50123, 75363, 1239549, 64174, 128358, 25518, 132932, 59143, 54024, 280970, 51358, 18496, 57761, 155416, 427767, 52971, 14118610, 261942, 31633, 11918, 272030, 26475, 59899, 1417765, 1056397, 1500508, 1116861, 2519934, 2440092, 227133, 3729734, 15871, 3789296, 309117, 86127, 34562, 18920, 38000, 236435, 53657, 140380, 195045, 14454, 501005, 90834, 36693, 629657, 74138, 1147877, 15463, 445545, 139760, 17869, 16122, 26170, 73894, 281743, 18985, 19913, 95800, 229038, 106051, 45096956, 68530, 13034, 90334, 98522, 96722, 1893124, 32038, 13322, 36269, 16600, 62251, 16104, 1787787, 327363, 21616, 57922, 65983, 80599, 595129, 13366, 33707, 38449, 73152, 28866, 34512, 67497, 54545, 76987, 73063, 78484, 24719, 728591, 87167, 98698, 196030, 178398, 64160, 1304812, 1186594, 195144, 231891, 2941308, 1130231, 27909, 760387, 99565, 129820, 81707, 316355, 487561, 14499, 83166, 60910, 652465, 7743927, 139891, 140473, 31550, 772327, 33699, 56417, 457241, 15933, 93025, 92005, 87211, 27644, 669503, 29348, 25591, 64679, 3012564, 15037, 30205, 66325, 59379, 15755, 287108, 12402, 43039, 94370, 31012, 13291, 30106, 139861, 29194, 161606, 61309, 36961672, 32660, 243246, 1762593, 23429, 31254, 828094, 80802, 73611, 15372, 23306, 17499, 56307, 85459, 58317, 4638804, 457530, 54187, 12116, 49344, 64093, 245773, 893036, 19141, 12465, 62321, 92888, 100673, 94218, 265380, 5524089, 22472, 60131, 1427468, 91068, 43310, 219045, 33320, 153657, 94639, 39310, 49152, 17735, 178702, 61216, 162738, 126207, 275517, 1493048, 1283358, 1741093, 85337, 1707915, 16364746, 29541, 329668, 165090, 263850, 43045137, 49999, 181348, 43609, 27553, 770040, 1158365, 40802, 81911, 217221, 731664, 3184991, 271112, 400962, 55382, 878031, 19204, 45184, 927839, 58448, 7957061, 26680, 5183845, 4882152, 242533, 62059, 13821, 435757, 733085, 25461, 396368, 293844, 330756, 12238, 760440, 24414, 31968, 71688, 79466, 25270, 125960, 505588, 76010, 186693, 12424, 57681, 272763, 28074, 57957, 132160, 29043, 152060, 258558, 35915, 187370, 198829, 16630, 116093, 41894, 11917, 11792184, 66567, 37489, 1051162, 34491, 1611077, 43311, 57256542, 171274, 54335118, 276614, 325134, 5453651, 19064, 458223, 851878, 325240, 3155393, 999468, 806541, 564796, 330849, 1435824, 1109917, 4127910, 387363, 2719198, 135815, 1262664, 1773429, 351035, 659630, 2107288, 333724, 4747588, 48870, 133022, 1516270, 796584, 1124157, 19197, 660655, 4269807, 3129743, 204604, 56200, 12640, 229196, 14460, 2257971, 166372, 9617936, 50474, 345579, 107397, 15747, 335925, 99053, 553034, 5059198, 996155, 2840284, 524359, 25990, 3262684, 385679, 250368, 34485, 519543, 2081195, 3104525, 141172, 3430319, 166689, 63702, 243197, 226318, 12726, 5803368, 198444, 117649, 253452, 2160695, 146656, 33688, 18850, 159597, 63981, 3395747, 48660, 2152004, 84319, 44947, 35040, 245887, 706128, 1811492, 53232, 480712, 14798, 55568, 47110, 593614, 105454, 78560, 51548, 52981, 270217, 19510, 107000, 90233, 265748, 173409, 51049, 18903168, 2112304, 119251, 202587, 291224, 13057, 50128, 79666, 62376, 36958, 1467929, 41301, 61314, 19743, 26181, 25031, 116599, 1014600, 863375, 465818, 4394165, 1540927, 27414, 33827, 175368, 56102, 115703, 634976, 1064398, 143239, 39652, 120889, 50101, 5352308, 99050, 38912, 435619, 192028, 16550963, 274869, 216561, 93707097, 2443289, 952367, 11629151, 41798, 23202, 19706, 15816, 398597, 93887, 9720083, 16045, 1289294, 572467, 77822, 625855, 29784272, 20136, 188230, 230189, 535237, 18084, 51685, 77342, 112386, 32339, 72523, 83920, 2119112, 503710, 118993, 78414, 121364, 53897, 235067, 12269, 51172, 14004, 218595, 93260, 34788, 116979, 15822, 558587, 14634, 2755062, 8058972, 1681418, 149135, 98694, 57505, 45683, 156843, 22674080, 10667978, 80168, 55173, 187189, 12311, 53143, 107390, 234338, 53383464, 36123, 322460, 118588, 9487166, 39025, 95205, 140986, 885149, 9555434, 27944, 77827, 29711, 29057, 95240, 12520614, 2147166, 61594, 13310, 89452, 310429, 40451, 160784, 445399, 1065987, 13370, 153225, 60000, 1469107, 2642840, 75612, 191747, 88585, 17095, 17849, 98624, 68103, 262131, 24105, 704450, 1871179, 61053, 155031, 130282, 10863958, 48780, 26216, 1495973, 147075, 31043, 19337, 35161134, 1574640, 1577003, 19759, 13041, 1606556, 17080, 52866, 219983, 418782, 2848099, 32597, 64440, 584302, 39558, 70925, 585978, 726250, 99013, 199364, 183902, 580464, 52462, 23669414, 13076, 6990057, 57236, 188520, 48909, 99657, 540144, 244665, 3615268, 3878608, 23324397, 3206307, 7031631, 166083, 100553427, 16071, 1877365, 5588876, 233609054, 19559, 65399, 56173, 1428958, 201075, 20169, 61361, 111769, 517218, 313514, 4578057, 64128, 95979, 258346, 405113, 105512, 83211, 18250, 18443, 162400, 182069, 3163462, 136654, 25650, 13163, 53767, 37847, 91478, 27507, 6021620, 82403, 72305, 29830, 914325, 42979, 214048, 15704, 19270, 181772, 54350, 19929, 18340, 51148, 20343, 54220, 14186, 466112, 13407664, 1974843, 837656, 1544279, 2218509, 1231985, 25922, 894612, 60610, 296415, 16627, 1844007, 70915708, 88725, 1660217, 86434, 39415, 71214, 29647, 203841, 1781043, 12759, 23271, 243985, 17084, 1306544, 1257552, 3209812, 123222, 25974898, 28798, 87488, 46327, 30422, 65193, 51930, 53569816, 1886200, 2263012, 108288, 11247742, 272153, 7214493, 68939, 31728, 75188, 34593, 134481, 174905, 32114, 5198075, 89039, 301293, 1108574, 63102, 28772, 479122, 50185607, 53803854, 13105733, 5451646, 19736, 2542399, 5308500, 783528, 86600, 269992, 1179948, 31712968, 4867814, 22722181, 32784, 98615, 100624, 119508, 85424, 42942, 3476554, 22436, 5684161, 159639, 5258776, 12097, 26046, 56686, 12872, 62574, 638598, 393353, 17704, 35362, 912100264, 100643, 80905, 226801, 14902, 15292, 36409343, 23913, 39460, 75621, 37216, 12544, 19446583, 186447, 29285, 404165, 2099617, 25989226, 371260, 36058468, 1366034, 806997, 485459, 598480, 16419, 3633332, 188576, 161663, 472815, 180510, 61360, 98093, 72903, 30007, 75598, 95604, 298938, 287892, 38003, 80284, 37533, 73076, 217520, 158388, 18793, 36554, 206998, 19140, 15457, 260996, 12049, 42719, 1329107, 580933, 21247, 33848, 3375331, 7013108, 59431, 162963, 5434229, 30397, 51947, 734135, 1084282, 1138700, 2196593, 1904956, 17184, 160797, 1710479, 142532, 51270, 805490, 93827, 48079, 31886, 108176, 17687, 124727, 331300, 17660, 18834, 20834, 271403, 454841, 2751174, 84752, 35734, 19121, 131600, 134271, 27662, 4482905, 74584, 538099, 22573, 55057, 349646, 139359, 65683, 34294, 55208, 355755, 16406, 12426, 85869, 51641, 56865, 531144, 211556, 258259, 19641792, 48866, 439293, 36610, 42155, 39715, 184506, 22826, 7612663, 96494, 818340, 26087139, 1806891, 5758045, 18268, 500713446, 726925854, 25929, 947819, 2299718, 2275073, 34063408, 1127573, 153925, 36900, 243873, 453818, 184659, 205969, 23994, 2722142, 89399, 54441, 18683, 43091152, 30060, 5371754, 3899729, 37365916, 432239, 55308, 44686, 72266, 343705, 68431793, 119369, 1318537, 1165987, 72986, 1135979, 26892, 3657016, 87641, 1037616, 21651, 114255640, 191306, 173067, 204024, 171544, 189332, 1993324, 616312, 114142, 72072, 383481, 5682085, 36188, 137652, 513937, 308118, 1328927, 326457, 123306, 103419, 20584249, 38048, 256680, 220233, 1616479, 92463, 936644, 120300, 32115046, 116720, 47088, 87852, 44869, 361182, 29983, 8777864, 11229285, 616450, 31292, 1336077, 40020537, 72006, 264524, 79868, 47911350, 4479153, 390590, 1618205, 215995, 2773997, 1143378, 75323, 107318, 434147, 15297, 1661616, 23052, 348129, 12017247, 49449, 788336, 4321044, 4239983, 181890, 41259, 41830, 12978144, 14290, 30822, 344974, 158209, 706855, 16293, 86187, 2135905, 101928, 24671598, 3533281, 21845, 64374, 112939, 202109, 354614, 556093, 2111812, 3309917, 11967717, 38275, 663395, 47454, 73770, 29400351, 336833, 17344, 99684, 31973, 34884, 103617, 75099, 16304318, 215490, 769925, 65146, 59244, 167088, 954870, 114155, 28851, 79512, 887321, 226918, 32138, 154346, 86934, 76140, 129376, 326325, 281018, 147760, 194362, 1076802, 913179, 50604, 22536326, 459626, 568543, 67367, 4949945, 417467, 391921, 225301599, 1420537175, 14825465, 203850893, 396880, 936796, 15107532, 1536887, 481274, 22579, 749703, 904884, 137290, 35499, 100239, 35187, 47667, 1282303, 863303, 31234, 531968, 41167, 31694, 27612, 121346, 131357, 38663, 33643, 88219, 244883, 112177, 13831, 61925, 98785, 45237, 26286, 28719, 141227, 40958, 59965, 229996, 350981, 30495, 76438, 42810, 285843, 1303973, 13264, 80028628, 190988, 106259, 56389, 99023, 52474, 267294, 38498, 293790, 22724, 71758, 140938, 81091, 132082, 402852, 20347, 35353, 15488, 30990, 83080, 103877, 30171, 352768, 37489, 138109, 20395, 129442, 31019, 738654, 70480, 72272, 61238, 17045, 136282, 34333, 273196, 21560, 112192, 22902, 430820, 22912, 29822, 142170, 183356, 49918, 414989, 339472, 477768, 25567, 1276279, 1203606, 747113, 21461, 148553, 20010, 70748, 36140, 94253, 41463, 103638, 5302656, 21315, 36694, 425640, 268859, 107645, 53049, 68393, 909853, 180949, 28469, 19295, 149487, 41792, 20376, 17605, 168794, 20709, 95660, 6269563, 10598509, 43342, 112434, 16866, 337492, 772432, 46389, 40839, 155277, 683712, 290412, 58517, 312949, 417852, 24294, 58272, 15788, 13862, 259107, 51412, 105994, 61904, 194966, 47096, 167942, 140655, 132463, 89697, 546232, 49811, 55493, 28177, 64164, 12833, 207823, 153408, 56135, 193366, 32456, 647473, 41620, 21177, 170016, 11983, 4578450, 1231220, 244370, 54065, 57392, 277745, 318126, 61243, 222978, 27430, 17276, 16640, 84997, 43723, 418205, 83712, 109656, 47978, 192546, 28628, 477485, 22656, 56746, 34792, 63978, 29044, 362026, 36206, 572712, 250762, 139866, 141253, 374938, 18985, 71168, 48154, 484078, 128593, 36789, 888934, 80729, 25690, 189773, 25138, 20684, 40759, 187250, 14937, 14743, 13600, 126810, 37309, 19294, 355999, 14306, 758557, 12765, 12422, 75698, 55902, 27729, 346174, 42150, 299198, 142003, 124141, 74514, 83614, 71715, 38859, 155441, 324164, 49726, 15039, 21869, 911765, 36063, 57491, 277047, 55746, 274360, 14651, 45426, 23269, 97094, 67251, 1296086, 237804, 5750677, 33995, 13676, 80646, 41197, 11026044, 67978, 45548, 30048, 68936, 1293634, 82040, 95726, 271483, 22037, 466418, 21540, 14106, 66741, 127671, 34274, 294272, 15000, 16772, 796339, 37034, 145347, 424013, 20834, 26166, 33478, 25899, 537133, 56267, 110024, 59169, 427298, 703531, 30016, 24989, 26417, 55632, 29153114, 13315, 585863, 87787, 176247, 107510, 38656, 367291, 2072851, 305281, 146668, 36484, 3307241, 16698, 68133, 26840, 19402, 26211, 18600, 7585286, 15642, 489140, 53641, 75568, 160872, 39071, 18972, 13389, 918370, 72418, 86506, 25378, 259096300, 20150, 132724, 47594, 34917, 1304691, 1663012, 419716, 23216, 158148, 5374725, 38798, 1794599, 22893, 207659, 40508, 18394, 95065, 252433, 43646, 73010, 3072903, 121072, 14000, 2002155, 19801, 886834, 27536, 32898, 37863, 1087416, 83167, 12584, 37204, 136341, 14939, 17402, 13992, 37390, 47597, 520896, 20051, 17832, 164086, 46244, 105123, 12889, 33394, 32764, 119873, 638353, 622359, 178240, 46991, 83796, 35897, 308968, 16191, 15523, 21382, 22544, 375083, 79373, 131180, 26264, 63819, 45437, 42779, 29441, 24574, 18148, 115673, 228953, 234032, 87225, 2989328, 108685, 63840, 16274, 570335, 193466, 74368, 61845, 15706, 39863, 138638, 804257, 501749, 7271299, 26134, 2199779, 166451, 899569, 417379, 1574739, 170076, 200256, 38720, 620051, 16482, 13685, 121590, 597285, 132958, 50504, 2681491, 392574, 72221, 48610, 32547, 178814, 12779, 63803, 95361, 106438, 188648, 55218, 34827, 59352, 103714, 669099, 31682, 19306, 45793, 36644, 67237, 54025, 24485, 116920, 477133, 20611, 26432, 30965, 162360, 26833, 14262, 126690, 26509, 15503, 66415, 16024, 234103, 53470, 93656, 30231, 194867, 21489, 184758, 50225, 36590, 359570, 704437, 27565, 25604, 666655, 1790684, 119808, 15496, 20244, 51514, 20071, 38833, 30251, 75169, 547227, 78640, 21753, 62357, 33534, 65925, 36704, 516257, 102665, 14065, 173512, 508255, 319855, 129763, 340359, 98038, 16824, 239148, 19358, 16482, 75948, 80168, 17279, 42868, 17763, 46786, 54343, 22643, 46124, 2482260, 43200, 185709, 271660, 15192, 329311, 18599, 27441, 32708, 245629, 57871, 37571, 21470, 23101, 1621558, 52891, 85921, 34519, 1636357, 186420, 45826, 270642, 129595, 26685, 614197, 32507, 141391, 216615, 73987, 480070, 125112, 21264, 37570, 18893, 1725423, 98733, 600699, 20025, 934880, 107336, 104448, 65416, 31194, 515323, 130272, 73910, 960509, 19966, 25633, 1235776, 14417, 62920, 288298, 29314, 437482, 28771, 246851, 1004208, 46969, 495410, 70942, 18352, 105829, 131253, 37943, 24099, 383282, 19817, 29345, 145809, 69553, 20138, 27073, 55379, 18839, 17900, 3428068, 49331, 41193, 102951, 247451, 69079, 32734, 18976, 87888, 129580, 72675, 312035, 117678, 140265, 13985, 2117971, 277898, 34303, 57332, 17735, 2506980, 282946, 67199, 85580, 22921, 14118, 4285119, 140251, 96269, 16435, 42881, 52430, 12864, 251488, 610805, 21084, 272119, 32642, 19704, 169244, 15896, 41341, 67110, 14894, 37564, 16810, 402198, 40899, 12470, 35191, 64764, 74955, 119414, 148813, 252962, 836511, 124916, 108178, 2057834, 159787, 548180, 207401, 32807, 34223, 491364, 20883, 878268, 29212, 58124, 68956, 59800, 27376, 97627, 32412, 148286, 55349, 85568, 25708, 3060345, 66091, 769599, 19416, 256949, 23960, 52883, 13312, 99481, 51613, 52913, 585163, 1399608, 138468, 25615, 149446, 280443, 48026, 18978, 63351, 57170, 4301118, 317990, 71394, 53375, 437342, 151927, 50756, 25516, 13208, 51280, 52531, 24702, 48143, 106866, 161143, 79722, 34653, 71957, 171531, 17649, 971124, 47184, 45061, 750487, 200007, 58628, 14702, 14081, 291418, 38758, 40801, 178713, 85623, 936765, 41357, 73289, 14001, 787453, 111192, 2828767, 45793, 273543, 22837, 75193, 186171, 19033, 48254, 164050, 214529, 248673, 115955, 40218, 50299, 1295502, 12084, 341246, 63305, 735702, 51359, 45436, 25050, 42178, 74300, 155215, 35914, 110946, 28490, 28794, 151206, 55378, 17545, 38887, 94253, 14961, 14768, 57790, 66845, 23423, 26658, 51366, 29736, 58582, 187316, 102572, 18189, 1591912, 21186, 16753, 50568, 97487, 24771, 63557, 52231, 73919, 45007, 2015482, 175351, 49284, 58891, 63338, 83844, 27380, 73032, 100336, 15421, 320753, 23164, 26676, 12238, 44955, 143103, 205889, 160071, 60903, 34340, 88764, 397834, 501170, 655201, 63233, 63520, 108920, 739092, 90404, 51235, 27884, 34601, 126201, 47614, 54331, 687489, 15260, 47099, 26207, 18023, 49552, 27807, 19277, 52566, 58061, 5570704, 23612, 296823, 27063, 27715, 61460, 539965, 24652, 52955, 27443, 31453, 45808, 31522, 13898, 132396, 235235, 114955, 50797, 44284, 59687, 125943, 38049, 68718, 21204, 17277, 131849, 333518, 1869240, 26383, 29827, 16842, 45901, 12216, 27091, 32045, 53756, 96823, 155803, 102145, 42029, 21074, 495522, 26159, 13855, 1674696, 129785, 110614, 53060, 126673, 71781, 76945, 25096, 379759, 99162, 40878, 22433, 85423, 33224, 17437, 57279, 61008, 46277, 224796, 18915, 12096, 123303, 12486, 345982, 31334, 66119, 87480, 691547, 55733, 30041, 374803, 19644, 33235, 27854, 61151, 87311, 87670, 78900, 52589, 50391, 86039, 4014621, 959336, 600000, 1393796, 71391, 18663472, 136112, 42312554, 42198, 550441, 3943709, 3416765, 223801, 175455, 334114, 455263, 67926, 3823543, 22770, 1001533, 23572470, 77000643, 72247998, 82076, 3074030, 97364, 129722, 870293, 28679, 32301, 4304713, 120822, 254388, 45311, 200911, 58784, 151370, 88933, 99176, 977716, 74969, 39363, 22582, 203231, 304838, 42054, 43552, 56433, 32217, 102185, 38105, 116187, 130383, 12174, 15166, 24488, 54130, 77718, 118047, 784525, 848130, 23380, 107562, 25725, 89915, 12647, 46360, 13501, 55533, 132422, 17094, 23546, 46815, 19658, 335262, 177089, 933295, 51700, 121255, 21588, 27944, 22023, 367170, 25717, 76831, 28262, 76988, 102146, 30090, 61952, 19282, 3021323, 171940, 88823, 16799, 50432, 66029, 139853, 33039, 13420, 60743, 53364, 106069, 22722, 102400, 48661, 85197, 51570, 18811, 79040, 50690, 12194, 15389, 113659, 121247, 16288, 35910, 204539, 275771, 278940, 44309, 160651, 208537, 15859, 88859, 93799, 151684, 16470, 35113175, 19450, 272493, 4874119, 133846, 12184, 65588, 46885, 73958, 16357, 56866, 1005114, 33997, 92802, 23890, 47690, 194154, 14689, 42962, 113728, 31242, 1256311, 133947, 52230, 47776, 27600, 39132, 13898, 115352, 67952, 48586, 27206, 27096, 81819, 42911, 18828, 21521, 73163, 55178, 810440, 131901, 454918, 51546, 65887, 962768, 14152, 799062, 23436, 51366, 124694, 20305, 46497, 83955, 3210955, 493275, 632532, 133602, 31908, 43312, 21067, 15917, 202469, 328715, 152676, 26767, 61984, 29148, 32556, 23448, 30148, 20771, 148529, 95162, 41019, 34200, 155107, 43469, 83706, 60174, 17132, 87582, 277875, 97565, 79372, 14000, 3858670, 210432, 46086, 12512, 32009, 118607, 169575, 670764, 560712, 757210, 496484, 773929, 844811, 126117, 766819, 703068, 1119058, 823417, 666704, 17018, 340940, 31241, 23069, 13844, 37905, 95912, 124332, 16060, 117592, 23906, 12654, 14194, 58137, 85103, 35408, 42264, 25676, 2777658, 21440, 15250, 17361, 173084, 14775, 49566, 135010, 14394, 1195845, 262935, 767009, 30280, 29202, 12666, 114908, 80108, 17500, 40039, 195888, 44279, 88508, 98487, 65380, 21337, 77516, 76224, 57689, 23030, 22728, 13932, 2099030, 134421, 2217210, 819474, 576601, 511168, 24819, 460291, 114398, 701801, 760995, 38618, 5315321, 129734, 657528, 73900, 914489, 94470, 67436, 94984, 1700081, 73527, 484300, 2076369, 55690, 21748, 1038771, 69494994, 200608, 564899, 439650, 17639, 4501253, 888279151, 29381, 141887, 379221, 170161, 26615, 2081825, 3224085, 7481760, 1585850, 57522, 106351, 43086, 41494, 3084129, 27882, 204308, 164405, 13262, 42768, 2888182, 205469, 477792, 2060533, 23949, 25629, 147583, 26030, 85411, 236273, 215696, 262932, 50012, 75876, 744067, 136612, 197666, 220564, 24249, 40979, 24224, 422771, 61758, 627076, 140674, 35213, 117622, 81202, 83658, 65466, 80562, 64946, 34995, 218928, 17282, 150957, 107374, 123030, 205905, 99859, 162255, 31337, 32015, 7082981, 130860, 242210, 34119, 46464, 147646, 27677, 39484, 104207, 38968, 266972, 37060, 512281, 44776, 71520, 52777, 20996, 31349, 23433, 22904, 19352225, 18854, 84165, 16333739, 147103, 64810644, 608223, 47348, 225839, 18117, 50942, 17464, 36956, 21031, 38189, 14340, 66681, 51827, 16435, 40720, 10279102, 687800, 74208, 308276, 386446, 15306, 48537, 598354, 384873, 50274, 36683, 48186, 103672, 19585, 39021, 19583, 108434, 51618, 203921, 20377, 266679, 497544, 61839, 226222, 21128, 33165, 54242, 87120, 51052, 30523, 426724, 15805, 119158, 116338, 226559, 144729, 136001, 28274, 146305, 1509729, 107647, 100248, 366044, 213993, 137132, 1839936, 14789, 721659, 1637803, 415726, 150012, 6106188, 17947, 18063, 31549, 2190623, 39012, 399022, 785301, 139838, 354379, 345000, 47125, 406764, 887401, 32029, 5157995, 728533, 39625, 9419382, 299814, 83941, 45457, 24509, 1954219, 99877, 121801, 230894, 474072, 2014887, 294263, 307916, 96064, 40073, 64373, 21518, 75308, 30653, 48762, 34591, 46790, 116862, 1343548, 27159, 3209786, 76201, 1391557, 828506, 388245, 502003, 185053, 2960779, 70149, 76254, 2722313, 225431, 73193, 74158, 841902, 416997, 19884, 73627, 89199, 87968, 33743, 19646, 1941754, 17618, 1093824, 513645, 325085, 32226, 64464, 22634, 198026, 63757962, 51874, 323096, 46473, 275627, 10235057, 22948, 91725, 83371, 117502, 72614, 17445, 98972, 193741, 65087, 45302, 436528, 68837, 550887, 26886, 1005878, 570745, 181579, 45744, 36120, 1382675, 4578405, 218832, 125481, 45607, 53268, 172442, 31754, 420577, 28299984, 268794, 2319965, 129091, 129540, 75453956, 325509144, 12764506, 22828932, 29732, 358068639, 219333, 806737, 2948244, 96346259, 1829435, 5709728, 85289, 558248, 294633, 196278, 41681866, 3881559, 706986242, 355837, 120114, 34159222, 69092223, 413409, 3447144, 1572608, 66738237, 1028181, 3266620, 684978, 248052, 18959555, 5931419, 11802587, 1087554, 23313, 3926988, 6504306, 304257, 91913, 196776, 61101, 1068164, 18520, 16471775, 273203, 442262, 720521, 659242, 6872423, 55522, 222877, 6543463, 1700794, 241189, 51502805, 3387121, 965913, 4650033, 79849, 117828, 31426, 26618, 205528, 64093, 715080, 81480, 240742, 11121098, 335085, 4929086, 1054015, 128174, 68993, 880499, 346677, 72641, 2097921, 210432, 364027, 224351, 1576420, 86066, 28871, 1430521, 31183, 908562, 997073, 75872, 82766, 30451, 4973400, 40895, 21826, 143005, 44136, 4052615, 13034013, 77743, 94692, 13808947, 1627142, 3344973, 2204296, 585033, 47746, 3013827, 1268196, 45756, 774394, 83581, 8535202, 762535, 171472, 19532385, 12173, 130600, 2983733, 580020, 459003, 4745197, 151774, 106711, 39122940, 885575014, 168101, 1725407, 77600, 69443, 16343885, 828988, 15361, 94926, 123106, 306329, 950380, 79425, 358587, 275780, 2693627, 41701957, 133518, 104999, 16560, 119797, 285621, 864698, 42195, 27216, 44505554, 1068119241, 1063615, 393984, 32522, 722639, 4824632, 985844, 74483, 22595, 385702, 344225, 13704001, 49540270, 10470475, 144438, 52809, 494582, 690422, 581391, 7338830, 95116, 1542258, 628081, 669059, 2980175, 71660, 10178676, 1622502, 1166909, 2264109450, 179100815, 18768, 671587, 453760, 314270, 540437606, 582015627, 51388258, 42233576, 105834, 533037211, 175446, 345524, 3371053, 252675, 21346, 365917, 25904, 865825, 134320, 22363, 13231335, 95903, 1795334, 64700, 108414, 202311, 160550335, 38798101, 49891, 74051, 103355, 490609, 575746, 81691, 300904, 58021014, 445217, 645191, 523385, 17635, 262191, 19621, 349822, 1747544, 456724, 868007, 44761, 18514, 6357885, 56459, 1034729, 21200, 3163706, 357969, 105692, 2918799, 856299, 3869795, 13271680, 21572220, 2956854, 149317, 98660, 103376, 5718317, 277861, 6550140, 211072, 426746, 45990, 128234, 20853123, 740860, 53287, 3236064, 6255803, 1919422, 90271, 108245, 17566, 72491, 266241, 187647500, 18150, 42811, 586825, 36468164, 21389, 17162, 925825, 148183962, 325987, 23000, 57733, 91089, 2811704, 59324, 595831, 8875567, 360147, 18265615, 652033, 277389, 265468, 56559, 37553961, 87071, 17264, 947220, 289232, 49804, 2027283, 24291, 57246, 65609, 57044943, 53248, 1600670, 687477, 58678, 67414, 3527276, 4925551, 236636, 111225, 63576, 54411, 326369, 15645, 2180379, 636153, 2141300, 21264, 464644, 772973, 151686, 846216, 15722, 2812677, 204507, 117109, 33105, 71172, 42497, 220040, 13495, 24860, 80592, 492479, 4598344, 2372062, 10081222, 2666776, 111266, 549823, 1950299, 498689, 44755, 364102, 162714, 7015128, 58799, 135924, 60982, 318951, 505379, 935696, 126523, 199127, 506140, 559201, 173892, 78583, 246081, 55146, 228985, 61655, 60355, 182154, 200634, 498883, 215104, 13119, 15583, 20844, 1141102, 14347, 6241256, 265225, 454272, 29130, 8028208, 1697699, 3484444, 28562, 13880, 339215, 46356, 397808, 80497, 218628, 320680, 35316, 42439, 153321, 1808554, 348511, 96158, 23955, 204272, 162633, 42905, 30141, 28090, 171968, 46481, 99601, 20420, 117112, 191265, 762177, 1104557, 9916413, 432787, 33786, 580500, 873424, 438900, 19581, 34576435, 64471, 82846, 51067, 521378, 29910766, 963125, 254797, 191137, 22598, 412708, 1912434, 544890, 34657748, 461229, 127134, 322683411, 18476082, 33615, 1648961, 84071, 56812, 92492, 32148, 398556, 1328045, 2555381, 518487, 198609, 334877, 27891, 1870635, 171295, 496849, 1178275, 88781, 339137, 65444, 313069, 179906, 723677, 363361, 91173, 12622, 36270, 626006, 772826, 24682, 210493, 372063, 3351728, 52602, 945676, 161249, 2557153, 1012001, 32141, 57967, 57298, 495935, 1279995, 41604731, 20684, 170492, 441250, 174263, 361038, 22579, 236952, 80625, 34792, 1582564, 105873, 602969, 12251, 71558, 169417, 1832608, 491059, 330339, 914738, 105187, 5395074, 465084, 246679, 69394, 164706, 906373, 53762, 136341, 319464, 32179, 165506, 159223, 3842087, 17917, 146522, 1539568, 242244, 51037, 240381, 331515, 20456, 374729, 14009, 108382, 41557, 85469, 1813135, 468567, 730405, 58300, 1283754, 6745010, 1708513, 368348, 888836, 167848, 707963, 167954, 66231, 17116, 127778, 27267, 255338, 217104, 1196357, 43601, 6995420, 281275, 144037, 30655402, 20855709, 2483828, 2490638, 81742, 45254, 81260, 682182, 125424, 503408, 147112, 1688759, 62947, 3859907, 4939326, 11634925, 250834, 897263, 1511056, 451785, 14765, 675822, 11899, 25391, 247388698, 100386, 441332, 24459, 46058, 151967, 38399, 108128, 69050, 62814, 205365, 131833, 15039, 32499, 6232116, 236702, 68497, 67844, 5490680, 701970, 509708, 12320671, 18871252, 342360, 1558577, 20214450, 902282, 258776859, 286483, 3032690, 323082, 45880, 24411, 11596592, 1961146, 954618, 180986, 15372, 205033, 17288, 90925, 802995, 64378, 795343, 42072, 168619, 591553, 469494, 478927, 3189807, 45863, 679873, 13420, 27395, 68496, 1914042, 45314, 48794, 881393, 373377, 122759, 30186114, 3098590, 1462481, 4900416, 48736, 418800, 249932, 504608, 9454830, 3470507, 274889, 417321, 245958, 5417377, 260386, 13063, 43105, 4552648, 594610, 151483, 24273, 310575, 3606899, 32890, 377287, 9184214, 79211, 2153543, 71125, 36297, 88203, 599733, 964389, 24555213, 76147, 1253820, 71486, 82542, 137613, 576562, 112417, 83910, 44057, 43660, 14925, 563113, 725175, 19423563, 379159, 203762, 16678, 966239, 79185, 2899332, 76127, 96791, 134816, 592061, 5228546, 2363679, 237445, 12953, 185215, 1256873, 461418, 330897, 42557, 108180, 46911, 7323797, 86217, 254210, 580690, 35079, 72512, 119374, 46610, 36985, 95976, 2465041, 38098, 59830, 40670, 32574, 56453, 668483, 358182, 529367, 10651818, 52201, 56854, 89059, 178605, 5293118, 35629, 45948, 14962, 12270, 38140, 13288, 75817, 283821, 2766059, 2106638, 57689, 466838, 2479053, 179088, 68131, 338547, 132892, 1204846, 1398983, 87429, 161531, 22215, 78183, 39309, 21068, 524569, 27159, 94492274, 54987, 950074, 15259643, 1199736, 69825, 48904, 1099632, 41444109, 146037, 59078, 1425868, 24125, 39229, 6989753, 249315, 1069605, 19704, 42200, 22126, 320280, 20681, 118302, 177028, 23796, 113499, 76548, 1256493, 286849, 109286, 2119667, 6898835, 355705, 47845, 979766, 89416, 218919, 113080, 278420, 45446, 92799, 126835, 227055, 461143, 1043986, 12285, 34875, 523504, 1539295, 161522, 7636103, 2514747, 8397396, 51656, 59426, 18343, 16648, 29701, 42663, 443411, 240053, 317824, 3050446, 214865, 90631, 1586448, 162125, 434256, 214979, 55392, 192141, 44075, 2129057, 55849, 161031, 104464, 47976, 51060, 54404, 91449, 38234, 1008584, 42110594, 67009, 280798, 990776, 129184, 253010, 350809, 35357, 55940, 132476, 20321, 80803, 259386, 219501, 232067, 1708953, 35184, 140757, 3739060, 41858, 365345, 239641, 247857, 18259, 286546, 67897, 19793, 33131, 14992615, 15304536, 22178, 38569, 1343044, 643600, 49679, 1901496, 20295, 119410, 4430128, 23149, 57873839, 1880763, 13860302, 253030505, 100000, 125641, 222824, 14647, 1399199, 183916, 143071719, 52619, 120077, 1924565, 5421157, 2466721, 7581138, 106748, 98147, 22143, 12800, 14539, 189108, 35904, 110212, 319416, 101930, 137256, 147460, 107364, 27516801, 2881515, 348628, 27260379, 20074, 24101, 12235279, 29046, 482630, 558764, 2236717, 55850, 83441, 70103, 5938920, 3286704, 1864428, 1046415, 34399, 154824, 616998, 14632, 30303, 782480, 84691, 873782, 17448, 55294, 772556, 7965893, 636893, 22000, 1837414, 223945, 23453, 25952, 24873, 30538, 80393, 1140462, 119372, 1208559, 237593, 109679, 29305584, 910629836, 356003, 15759, 328902, 301869, 7491429, 328058, 72493545, 11465520, 16200, 26064, 459488, 342585, 461176, 158320985, 148858, 330579, 172467, 13851, 195466, 232453307, 961719, 18826, 184416, 311424, 132859, 220940, 98855, 28284, 169398, 162606, 113557, 936937, 46303, 11709479, 294947, 42793, 2914580, 62528, 4366257, 58381, 48474, 32089, 2960037, 1144177, 566452, 32049, 768386, 2811429, 173209, 21709, 4510717, 33825, 1586920, 440617, 28166, 177811, 59330, 69615, 107588, 57795, 297301, 69119, 50966, 48828, 44597, 220526, 15722, 45165663, 1052902, 92850, 580496, 1519567, 24459, 127793, 64435, 1189341, 23630, 131391, 50078, 84705, 75269, 287765, 79384, 985895, 89896, 6201027, 63320, 111480, 512014, 98481094, 107944, 2168130, 9721128, 34024, 180152, 120304, 237483, 17976, 34538, 1124121, 93276, 2731896, 3189005, 53769, 7903843, 11002681, 1477563, 216783, 141851, 133556, 203256, 33202, 22110, 83151, 18704, 66909, 10069081, 119499, 60596, 24766071, 210098, 802010, 58662, 245637, 130381, 54535, 22107, 48090, 18243, 44840, 42008, 34149, 438018, 247827, 164874, 164860, 393444, 912811, 1112173, 2192625, 1018486, 51334, 1610622, 39818201, 58741, 83729, 25719489, 18975, 81555, 182185, 142582, 18072, 690648, 30217, 50092, 440611, 64960, 122633, 1687740, 7992807, 95389, 512542, 96221, 203914, 1560447, 45353, 142461, 27289, 29857392, 174367, 27352, 656025, 5709331, 341663, 108523, 212684, 139777, 1257590, 226714, 384167, 42279, 82583, 85193, 1164016, 45415, 849904, 264996, 197344, 147193, 143601, 455438, 41293, 693028, 615128, 47711, 106141, 34710, 10395185, 21086, 83431, 689619, 105721, 690720, 6074233, 75311, 29421, 586682, 12361, 81618, 7429956, 89451, 93103, 1407719, 29914, 590133, 2731369, 93528, 43405, 29852, 306415, 20606812, 1150846, 27589, 568256, 291470, 112883, 42209, 135185, 922986, 282870, 14349, 95075, 40622, 28413, 517526, 20000, 174977, 64105, 109088, 977037, 649136, 15840, 181437, 439591, 315816, 1239730, 163297, 85436, 1624652, 1950777, 1952403, 5144674, 3006230, 608425, 200465, 41863, 4653011914, 1391441555, 27688066, 923741684, 270271572, 1186492, 85244, 205703690, 3907146, 123583, 3637949, 93132501, 197205, 9401154, 2585687, 652475, 83531, 5096232, 128059, 961057, 1671071, 5571593, 40743, 108371, 13422, 154502, 55117795, 85425, 89204, 5806928, 21614, 2440332, 486537, 18362, 5332790, 71322, 175260, 14270, 44115, 120634, 126626, 220911, 39030, 74285, 7509748, 600183, 2435249, 166286, 1573496, 253102, 19274, 27355, 330428, 87558, 172851, 19891310, 40187, 2119497, 5800355, 77577, 10538837, 455704, 2310256039, 223012, 20625, 724524848, 626251, 21202, 160039, 220065, 1136115, 798959, 3305368, 316850, 981069, 6070530, 16033, 90139, 1440437, 91382, 73683, 69470, 527153, 79416, 47126, 6260072, 246851, 59207, 162596, 488633, 1633853, 420329, 49822, 1398186, 32464, 4031291, 97250, 600883, 4284383, 5200045, 2823047, 599121, 7280380, 2312243, 4629365, 1168430, 2030327, 84958, 1065867, 66042, 136658, 394628, 98076, 22364, 287461, 160664, 28590, 251267, 54024, 477042, 90834, 88648, 191412, 99821, 18389, 129781, 340753, 78248, 100471, 54036, 32546, 232371, 66833, 255092, 1748956, 144443, 1105479, 636897, 5133445, 135781, 14096175, 96715, 10055987, 273706, 4633676, 74843, 550238, 23702, 10975383, 1240863, 27488, 6071306, 2276657, 211851, 5019114, 567727, 6987462, 34686, 74526, 798646, 243327, 260310, 61801356, 603193, 232169, 15151, 349251, 73627, 35190534, 81736, 31651, 6986847, 2296133, 151838, 813510, 25728, 75895, 480240, 1586408, 91429, 64786045, 3880619, 19626, 79333, 4398339, 1695645, 42962, 255331, 1268469, 2073711, 1048023, 91247, 250095, 588922, 258037, 304017, 6084562, 865982, 1664174, 27953, 87294, 39749, 16069, 163068, 13011940, 133783, 25993, 313455, 28542, 11929381, 164782, 473430, 1480029, 115368, 86348, 243309, 88131, 80348, 177635, 228508, 899000, 97335, 288230, 83830, 184668, 195661, 46802, 77520, 23057, 606084, 13750986, 3625846, 1742249, 516931, 1095854, 334370, 41669, 184350, 16377, 159144, 59711, 73393, 26039, 910740, 62384, 3519102, 16219, 436629, 1626852, 20084, 14721076, 354953, 9163014, 39796625, 1932868, 2083587, 1207712, 860312990, 1090186, 633380, 12839230, 411677, 85640684, 40735, 24289, 1485967, 6249193, 177139, 974156, 4681154, 78038, 744939, 2120337, 1540263, 43340, 378909, 37834, 22540, 248003651, 31103347, 535121, 40919, 85537, 1382280715, 59277, 67873, 324248, 3140072, 49937, 82970, 2626011, 829474, 15553300, 20385, 154287, 2185063, 88289, 43500, 89991, 861578, 1653666, 68055, 19810, 182135, 2323303, 16307, 521982, 613835, 410495, 74350, 268551, 25950, 48753, 30799, 9274771, 191200, 3615031, 4548010, 1783670, 2803638, 798417, 54684478, 126612, 4933535, 487148, 429862, 72264, 34280, 198157, 29270, 20537, 488837, 228714, 530777, 43380, 256768, 137625426, 103940, 31359, 95380, 100955, 5483389, 62913, 42355, 2285647, 200923, 29512, 1920952, 1357207, 103232, 222743, 1436586, 110988, 15919, 325425, 13070, 56692, 971080, 118786, 81558, 2594355, 149353, 167244, 176034, 54356, 2018799, 43976, 99218, 146824, 194731, 260981, 22680, 746166, 73295, 22504, 39815, 167266, 239690919, 1182689, 39407, 148509, 18427, 30977, 169584, 14508, 582779, 803491, 98582, 1713384, 8708352, 62424, 993707, 243167, 96751, 168382, 270738, 81276, 875158, 659040, 1328994, 53898, 755852, 149826477, 264457, 32776, 251102, 24055, 1297173, 1543430, 20104, 562796, 4272612, 21884, 85457, 885182, 51761, 58707, 966940, 45035, 45667, 87422, 4009666, 209473, 102605, 377546, 141861, 138279, 27613, 36165, 1920035, 86041, 20113, 352178, 20140, 139811, 16223, 1149439, 27097, 40743, 2159879, 9638176, 752519, 2935925, 29130, 1509995, 349900, 48142, 145756, 45137, 31879, 819921, 7370592, 96160, 47609, 5258406, 53009, 105545, 3289370, 252068, 48366, 23527341, 13334, 390077, 176094, 15964, 43663, 40090, 240237, 249147200, 18045, 315658, 71963, 50963, 412433, 42546, 287170, 85064, 20428, 311037, 2173775, 244684, 48701411, 109239, 988114720, 1311379, 155494, 2899849, 5964183, 92191, 121496, 2583546, 12673, 322714, 182160, 80038, 22822, 34838, 216178, 121166, 158847, 358652, 95428, 25361, 86013, 29740, 6820384, 558496, 12341, 1464475, 277300, 819366, 84393, 8859599, 1562442, 279792, 24685, 18900, 26654, 644002, 835899, 69391, 34972, 1022597, 2592755, 1662757, 12514, 624271, 457092, 17389, 464561, 121448, 315204, 234400, 6957641, 135505, 28582, 298816, 665039, 342204, 367478, 97884, 52720, 103520, 10834559, 169450, 1369313, 65724856, 674081, 124891, 115901, 1513352, 17683, 363271, 118587, 11886, 25035043, 527889, 24592359, 37933, 22694, 261164561, 71017, 154517, 10842345, 309823, 95404, 633995, 21767, 126699, 68025, 12506, 12500, 31781, 309723, 34938, 4699892, 1496306, 34076, 55432, 2045137, 776876, 865352, 38073, 211979, 40546, 93903, 131193, 12589228, 480001665, 89866, 5362767, 54996, 3571689, 122179, 825252, 85029, 87085, 2333621, 673057, 26220, 57628, 4944904, 429626, 25947, 106592, 269253, 2630232, 855441, 42448, 91897, 19902016, 3244637, 75098, 68792, 103063, 97034, 22012, 572487, 53774, 43788, 886074, 6326743, 10749016, 16278, 15336, 24570650, 4442499, 95954, 301098, 42676, 136893, 96928, 470770, 43898, 111034, 23618, 90299, 69060, 23893, 172080, 298758, 39122, 259356, 413525, 1848634, 112372, 13303, 2352362, 642328, 1459344, 208421, 944181, 2286393, 66846, 27942, 4273225, 29633, 92311, 555288, 206502, 634849, 1925630, 72605, 133209, 76790, 46830, 172484, 21187, 213317, 224339, 47801, 23312, 448287, 258718, 74004, 584832, 752561, 71582, 25507, 450830, 74352, 973046, 177058, 113505, 63981, 2714599, 28812, 496089, 12135, 45893, 63700, 117375, 51422, 91436, 122275, 21689, 18918, 115044, 1493074, 83116, 129394, 252815, 41886, 354302, 46735, 27270, 60170, 3694432, 1726381, 57456, 846587, 240780, 2588193, 105195, 29693, 411664, 1566513, 761423, 238131, 166573, 1208091, 195041, 545649, 3045352, 119903, 21053, 82973, 57957, 166942, 626260, 20498, 235090, 234643, 103970, 158368, 106814, 86968, 49025, 5505145, 18272, 256888, 28290, 24160, 28724, 285110, 102158, 14405, 49121, 16908, 430184, 6414867, 107326, 18706, 1934950, 2155734, 106453, 164857, 625890, 70893, 52562, 2270848, 57237, 25951, 14121, 426788, 18517, 64250, 17690, 22049, 76899, 387201, 90951, 119033, 1034841, 2224042, 81944, 34742, 691841, 13927, 39168, 28927, 36827, 5170472, 19807, 18838, 116018, 55027, 25997, 18826, 1255988, 88956, 200914, 149861, 378325, 18878, 174098, 88182, 33067, 618021, 61397, 23765, 112362, 15993, 66121, 53874, 138919, 14765, 462936, 21986, 127532, 46893, 49686, 390767, 49314, 250180, 150370, 438754, 34697, 402923, 81567, 79215, 29000, 23526, 176413, 13697, 12744, 74561, 95492, 55401, 121091, 35233, 143500, 17770, 16787, 5887828, 459300, 121928, 14935, 2002291, 31820, 12224, 117293059, 3246271, 74835, 384023, 123347, 21116, 716523, 20406, 31063, 38574, 113083, 16755, 71425, 302200, 247510, 2450776, 27461154, 237604, 3116441, 3623936, 3638501, 21346, 266408, 220551, 195325, 446977, 12261995, 72854, 4575372, 300780, 278843, 46327, 247288, 885674, 261706, 77546, 1688515, 192817, 24096, 397191, 519770, 128512, 356687, 115429, 327154, 462029, 19396, 147542, 1522077, 3631076, 50037, 202152, 218911, 608487, 491632, 26919, 104457, 91907, 38589, 773401, 24371, 69852, 20405, 126930, 295357, 2123267, 17902, 1213451, 103946, 105963, 295793, 707143, 314908, 24697, 12140, 1088266, 1670390, 27567, 44587, 327200, 101242, 117431126, 22844, 160539, 18291, 48046, 19600, 263197, 15905935, 57174, 62754, 341043, 28713, 215153, 36845, 105900, 21772, 98437, 25910, 37562, 34260, 50543, 34057, 93902, 13499, 24975, 44424, 15606, 29008, 130994, 35335, 20667, 3584072, 546977, 57106, 261364, 212569, 64809, 6530716, 188409, 191522550, 70301944, 2417491, 2539738, 214858, 798957, 275133, 17119, 51112, 61938, 43299, 1785439, 548310, 4484627, 61970, 378786, 1684323, 127610, 454540, 2000396, 263084, 138582, 135086, 29450516, 224798, 1753383, 807897, 421997, 77791, 146661, 896656, 34317, 126669751, 48837, 43267, 1549974, 10010825, 13796, 104415, 95943, 721947, 602672, 214639, 1347689, 18333, 87288, 2016930, 52868, 82524, 77892, 545517, 664418, 23326, 27384, 10229611, 113861, 25274, 569706, 80611, 160966, 56270, 5362677, 51382, 141221, 846813, 51567, 12908, 56611, 535050, 447172, 54519, 151470, 169513, 150830465, 269731, 17996, 32988, 185433, 155381, 31948, 240744, 20271, 388216, 68286, 17674, 5260919, 37991, 242400, 120731, 302511, 2750346, 655698658, 84611576, 2808139, 2644916, 36555365, 75809, 114603778, 301340786, 21787223, 9742619, 1427468, 15942300, 6191731, 368790, 259148, 211690, 794657, 109886, 153263, 16232854, 316863, 3343899, 3536912, 99702, 29521, 80599, 75127, 104104, 208320, 366113, 106053, 2792629, 71388, 996860, 38298, 11081288, 1461462, 19874, 22790, 23047, 130306, 104404, 1787018, 4252694, 137859, 1374728, 17291, 5976290, 2044991, 303752, 2458207, 488250, 41596, 12063846, 223555, 3841606, 2550743, 30878548, 88554, 12663, 2750808, 122431, 271968, 406204, 1142840, 138876, 4595265, 1740099, 51979, 133247, 586262, 2747868, 29108, 8786096, 93355, 157011, 10793632, 591012, 141826, 27354877, 125244, 79746, 125245, 55589, 244527, 33411, 120732, 21288, 12753, 105399, 13741603, 617893, 418021, 1103922, 78707, 91896, 77850, 5352567, 15558, 831193, 432809, 151599, 2131674, 50595, 1899607, 98357, 1228666, 153507, 825003, 29426, 52329280, 974556, 26113, 727646, 827008, 43809, 310774, 183338, 309197, 50292, 33323, 53336, 54144, 100951, 962242, 53505, 57858, 99281, 77554, 55377, 68810, 632213, 1004604, 56834, 494128, 817762, 120158, 342593, 25026, 33591, 186792, 43610, 29029, 48738, 50109, 31825, 101779, 295928, 38721, 12584, 937191, 129535, 502524, 48927, 851377, 869605, 29410, 105295, 925877, 166976, 895857, 4001557, 137089, 198285, 40629, 30077, 55735, 113031, 1087397, 33217, 141244, 29636561, 16761, 35262, 124351, 315928, 30483, 151580, 49987, 195661, 13546, 63981, 358696, 288998, 50370, 178577, 155479, 2600106, 715513, 2095744, 71615, 389038, 17199, 206162, 233816, 382285, 2279551, 6354489, 441815, 59280, 36658, 20906, 13658, 291142, 163853, 513764, 1448299, 659468, 3549008, 377841, 24391, 12127, 1820474, 7818496, 1686586, 97117, 1086706, 14692, 48675, 44126, 2921781, 208760, 271298, 610828, 128138, 117331, 33509, 422861, 140209, 351235343, 4336416, 3100507, 67041685, 40920, 33740, 23731, 386569, 159516, 127824734, 1281905997, 772662, 226456, 70348, 2129462, 189415, 31593, 56336, 59762, 299435, 483060, 226141, 84982, 1034093, 44210, 256127, 478895, 121547, 105049, 7683318, 196494, 38156, 502421, 25636, 32634, 88551940, 728544, 3279336, 504501, 81138, 372159, 54151, 1576733, 34089, 83067, 17800, 6579896, 40216, 18871, 74937, 153392, 1060117, 1603777, 106571, 104716, 7731376, 46023, 207259, 101203, 1547192, 1148153, 56917, 3333879, 947642, 185360, 143330, 59647, 91544, 1539502, 17028, 83039, 1969237, 6254420, 56554, 290899, 2189937, 50435, 177862, 16357913, 148657, 31131000, 46098, 551213, 4756714, 586454, 21389, 19059, 152539, 220044, 57316, 402422, 131654, 5325232, 58910, 493387, 49472, 124873, 140722, 22470, 38973, 42323, 444674, 10451514, 71981, 500321, 4989407, 31420, 14885, 530669, 13446, 41744, 250312, 200060, 37063, 2318847, 576552, 50890, 56903, 83827, 719965, 17010, 99257, 1384330, 76750, 183879, 73987, 254635, 25797, 1591555, 117060, 48785, 14785, 78691, 63914, 25366, 171634, 16072, 87996, 1906925, 11963677, 32149, 11189862, 91142, 59652, 122611, 128261, 92601, 421797, 20602, 1522122, 29178, 206725, 887643, 84672, 75998, 1534722, 1218696, 206628, 2103641, 461022, 369751, 1674868, 43465, 76801, 2530846, 1160974, 641520, 888851, 12355393, 134617, 428195, 88410, 1001190, 2547359, 64245, 374507, 159115, 1709876, 46111133, 108532, 9483370, 465551, 12994, 42137, 62929, 114266, 1651076, 218725, 131964, 7895859, 958686, 170303, 14875, 555010, 97982, 1819603, 25049, 276753, 5800470, 315776, 24746, 3947760, 128305, 324709, 16720, 132408, 71572, 72516, 441819, 40050, 171685, 54429, 273002, 23371, 1303970, 1220245, 790527, 4564513, 10089113, 210770, 1331290, 46358, 264177, 198214, 18533, 186059, 4150094, 19982, 107163, 4487080, 640721, 109661, 7527463, 78571, 415765, 413557, 164678, 138094, 85439, 629412, 28109, 5747599, 2452451, 59057574, 13507, 49163, 116755, 60518, 372860, 1431134, 404972, 36963, 1163984, 28440, 1044779, 1385973, 31892, 49964, 77345, 13831, 181360, 42551, 352061, 203886, 840637, 40128, 166257, 74002, 471555, 47300, 83925, 81598, 64768, 21837, 115332, 26055, 63773, 15290, 56875, 83897, 68287, 12452, 30769, 587635, 253538, 38159, 48062, 694248, 8974015, 12763, 251093, 45026, 746167, 28757, 33121, 35023, 152034, 32077, 28997163, 6131779, 13464, 33167, 336897, 30549, 28925, 13637, 26277, 561282, 16814, 103514, 257824, 228387, 14411, 33503, 135424, 82744, 31927, 24346, 503437, 53988, 181539, 3391919220, 480485598, 24977, 19110, 2611934, 57217, 17777770, 16555, 17776, 64847, 22554, 23617, 18636, 17366, 28662, 12213, 40429, 199942, 128227, 76662, 141111, 17310836, 19758145, 39168, 409207, 92026, 317739, 49266, 1229440, 678075, 244372314, 2791345, 1079817, 7161977, 133804409, 258211, 185670, 266839, 500000, 140940, 1119840, 790873, 1223283, 63831, 111823, 100057, 26089, 468571, 62049, 9255342, 86601992, 1489708, 67367, 52714, 319928, 1793635, 1887521, 2033452, 38563, 783855, 220275, 115002626, 80794, 67881, 25627, 93063, 7947501, 21077, 451486, 13446012, 276838, 16613, 552207, 107637, 269468, 11935, 1287508, 36791, 257878, 352405, 90247, 39122, 149462, 24746, 1729424, 4388466, 52593, 347130, 24047, 320975, 8744690, 281878, 318359, 29917, 42178, 142866, 13681, 112058, 22819, 22035, 54698, 17112, 36864, 1453985, 219314, 2194606, 16710, 83211, 1004889, 203746, 44773, 14171, 18246, 126806, 25434, 52339, 1591782, 2773500, 36713, 3501737, 118596, 29133, 30244, 75548, 42778, 203246, 37504, 4546642, 16815167, 709957, 41170603, 197923, 27530769, 21063, 16148, 72151, 739587, 1440545, 35116, 4861597, 155883, 36683, 5657053, 1369936, 1764073, 81448, 25724, 2335783, 1175553, 79839, 492131, 38360, 294584, 133334, 4847691, 342426, 24199, 19906, 79988, 1661605, 19167, 199595, 17960, 26432, 50957, 695914, 129546, 25812, 50630, 288730, 190994, 77825, 44816, 240076, 184238, 64264, 116551, 2290949, 29612, 33819, 49521, 123714, 6828159, 615080, 495803, 1443006, 31835, 124516, 164388, 311334, 466338, 52034, 29837, 54134, 41250, 282520, 74571, 861804, 164629, 33883, 14120, 47286, 199115, 474635, 57588, 25838, 111443, 55101, 68926, 50527, 4422954, 55036, 21674, 49366, 76384, 29868, 38975, 238933, 194229437, 385882, 3641083, 305475, 58856, 18638, 108566, 52846, 39561, 41852, 2901651, 164566, 112262, 140864, 3968122, 535987, 17747, 2609289, 18877, 43281, 457026, 282119, 88161, 547586, 277232, 16981, 54258, 553635, 2405385, 60149, 125274, 229310, 35631, 42657, 85813, 62298, 15830, 1882838, 3708700, 541529, 513948, 108820, 361235, 46278, 3193719, 371345, 239006, 8613479, 1216745, 159236, 49866, 500490, 337557, 53639, 74006, 114615, 14652, 80326, 1431002, 53241, 121047, 15525, 5819111, 77237, 91797, 51160, 13189, 122031, 30186, 47242, 36680, 92545, 234618, 92727433, 37629622, 116841141, 494721414, 80673077, 318029, 15344, 2122525, 96520, 52372, 16340, 551569, 132966, 26091, 17437119, 251911, 12686, 271950, 169779, 5397230, 384789, 29611, 96475, 313023, 252796, 45289, 111470, 59646, 331935, 14946, 21962, 19821, 100393, 1118858, 72504, 138463, 122767, 34031, 1097129, 260166, 162839, 23899548, 985985, 169554, 8552998, 1717994, 971790, 428992, 16184459, 46636663, 97503, 465941, 58123, 1026702, 182517815, 670442, 6233313, 34717022, 257474, 230377060, 231317, 350952, 59255, 64998, 35492, 37663, 66370, 121535, 319128, 2551172, 215121, 826617, 1516125, 626601, 49379, 62282, 357695, 65365, 586475, 909945, 168471, 188486, 1016911, 921719, 25108, 124826, 15517, 62509, 470606, 86596, 613355, 1047182, 50752, 8686138, 31518310, 710474726, 447917, 8262863, 267206, 14299782, 145445, 96537167, 52257, 78195, 18101, 256223, 233434, 823132, 278148, 61184, 201486, 92206, 2374324, 158678, 23999, 668163, 95100, 104596, 58632, 64371, 89849, 296802, 694401, 65946, 38808, 70896, 3702634, 2973053, 5250730, 72581, 295390, 32034, 221487, 97259, 1487361, 109978, 132268, 217957, 1595042, 75321, 297726, 41328129, 3345542, 540421, 964087, 733946, 114040, 134507, 195873, 26312, 303990, 308475, 1668967, 16149, 100059, 602073, 435472, 299290, 781717, 689612, 63324, 42072, 58781, 566615, 420443, 3377170, 36755, 1719847, 221587, 1356390, 126711, 26306, 94036, 67933, 145385, 246528, 46423, 30376, 30092, 1391444, 983908, 18969, 346666, 799340, 2919956, 251588, 103168, 205864, 768892, 122296, 100720, 886486, 1034825, 119981, 104450, 419374, 48508, 42363, 2631396, 50583, 1616654, 805644, 254697, 86855, 30911, 1128874990, 522435, 1157377, 84251, 62035, 159836, 78475, 270367, 4049016, 39744, 116059, 135398, 539217, 1196733, 46361, 73780, 1084552, 132280, 901597, 403514, 47995707, 5644440, 801170, 1893400128, 2422645, 199555535, 13136796, 182675771, 23692973, 334503, 6816609, 249322259, 430997, 83293, 1586268, 411125, 5738132, 29511, 146627, 175388, 76054419, 49010181, 217123, 10750491, 128424, 13648512, 377036, 18212, 40693, 79562, 227370, 198908, 64490, 17830743, 2354968, 61397, 23486, 486968, 60196, 465075, 17290, 102333, 333263, 240400, 28362141, 28281, 72456, 192110, 163355, 6011329, 3424792, 126386, 13010, 6837897, 1376345, 479379, 2241046, 25839184, 2441665, 49173, 521933313, 98565, 5836956, 55571, 569135, 13035, 1769589, 190933, 117676, 759417, 8597806340, 57175038, 35859, 330061, 3134277, 976428, 1008586, 30365, 55656, 248451, 36933, 23641, 133729, 25891, 117224, 70785, 151198, 23055, 394204, 34502689, 7509250, 16536, 25870, 63627, 3851427, 281288, 383565, 11505573, 62618, 3242671, 15878162, 1665460552, 693192, 276470, 142879, 30906, 22641, 35237, 7922133, 823094, 202545, 925493, 81671807, 129458, 16200, 426246, 1347579, 29122, 257588, 254435, 108564, 679720, 1680322, 57721, 2827749, 112310, 2887949, 40840, 22645, 248718, 80915, 10203802, 1041499, 49977, 1110749, 28959, 8117860, 1076450, 1750684, 47926, 347008, 202825, 19360403, 51849, 41109, 890177, 21821, 709095, 1191796, 49087, 729768636, 15876, 166647, 187674, 640967, 956027, 102747681, 64574, 28431533, 44618, 105808, 7809521, 81641, 371543, 23886, 709657, 1098556, 1522929, 1062455, 1137027, 755572, 23728, 37163, 778708, 57614, 47566, 954000, 256388, 318343, 100437, 85886, 416753, 114603, 1285957, 89901, 39570346, 238505, 36358, 27569, 15785, 23862, 64991, 221281, 67203383, 67219, 7190645, 48634, 66258, 1504890, 61628, 456323, 54649, 25000, 589337, 89605, 259708, 96663310, 534996, 31185, 305925, 456517, 282849, 440158, 16275, 77144, 146253, 932950, 22472, 54459, 646078, 216745, 39986, 58530, 17870, 14934, 42816, 371463, 1096019, 21433, 203349, 43596, 129950, 34033, 35457, 387105, 54202, 68952, 152788, 92982, 98154, 1578587, 60951, 64313, 30116, 260245, 145621, 93336, 131830, 329170, 94471, 2949070, 21362, 104347, 17594, 64727, 77994, 1093418, 931720, 21817, 5591584994, 63325, 39055, 50720, 107965, 56218, 208470, 422667099, 360859, 17614, 4029622, 200055, 5884201, 1490443, 709979, 491705, 315572, 2552985, 261533, 310991, 5097688, 967076877, 938554501, 26833960, 312141885, 285767, 214553, 34621702, 392079, 48121231, 530781, 167557, 203593, 83827, 111514, 46540475, 51888, 664552, 6530635, 97470, 353139, 59080, 83544, 332658, 27441, 204807, 13799, 5271147, 3317889, 666313, 357925667, 4304039, 8140760, 118980, 41075, 217491, 76403, 37009, 23230, 49611, 455087, 45877, 136087, 4142890, 48270, 20882, 32807, 1100284, 57972, 1152586, 1011585213, 399557, 51853, 34081, 80332, 283564, 1160985, 102747, 170725, 258656, 2275605, 77950, 513366, 27051, 350000, 362591, 51657, 759616, 3249662, 273742, 21293143, 4594413, 8120211, 1473307, 33050, 86039, 1295026, 8708775, 59048, 658079, 250062, 41904, 231694, 507859, 54729, 220250, 258183, 35071177, 1364308, 48389, 288208, 18118, 292267, 190072, 31952, 2266417, 1621748, 137320, 1504969, 5193903, 68179, 134860, 425326, 237467, 33719463, 30622, 3160469, 201112, 58940, 35464, 152598, 7498191, 4052021, 1270766, 200862, 16077, 19947, 34235, 89458, 2204010, 6727131, 6647877, 458923, 70441, 263332, 1400825, 272252, 1030732, 453804, 67768, 469434, 49453, 15583, 83438, 4032639, 16018, 123526, 209354, 125384, 124368165, 182064, 114632, 80000, 65446, 27347, 1925160, 662699, 164719, 394337, 291640, 4091877, 21046, 130576, 181060, 65963, 52105, 31819, 35762, 16049, 218462, 29158, 13341, 351451, 67727, 5896250, 1661133, 25651152, 120158, 28745, 1085344, 37251, 29898, 56135, 29605, 35482, 32789, 18001, 17248, 121619, 150599, 46915, 65711, 140483, 70329, 23649, 504867, 64698, 59311, 698028, 16228, 244225, 18673, 36079720, 4035050, 143729713, 11975, 17329, 14971, 2152031, 8588000, 124466, 925159, 5779336, 1014888, 918970, 150175, 92386, 75412, 131790, 78934, 44370, 8556638692, 116483553, 11432603, 223007, 17192, 131055, 13958, 40667861, 539701179, 1587617, 19591, 649597, 1354228, 17010, 3999445, 14241629, 299684, 3822376, 267157, 28842, 26556, 20881, 152764, 401661, 56261, 3384856, 20197, 36500179]\n"
          ]
        }
      ]
    },
    {
      "cell_type": "code",
      "source": [
        "# Check length of original DataFrame before we drop columns with possible outliers.\n",
        "len(application_df)"
      ],
      "metadata": {
        "colab": {
          "base_uri": "https://localhost:8080/"
        },
        "id": "Z5eWF2lnRuyr",
        "outputId": "792f321b-2fa5-45e8-a26a-9a12c65acad0"
      },
      "execution_count": 11,
      "outputs": [
        {
          "output_type": "execute_result",
          "data": {
            "text/plain": [
              "34299"
            ]
          },
          "metadata": {},
          "execution_count": 11
        }
      ]
    },
    {
      "cell_type": "code",
      "source": [
        "# Identify outlier amounts with a 'DROP' label and then drop these rows from the DataFrame.\n",
        "for amt in outliers:\n",
        "    application_df['ASK_AMT'] = application_df['ASK_AMT'].replace(amt, 'DROP')\n",
        "\n",
        "application_df = application_df.drop(application_df[application_df['ASK_AMT'] == 'DROP'].index)"
      ],
      "metadata": {
        "id": "RTeWxEBRRy71"
      },
      "execution_count": 12,
      "outputs": []
    },
    {
      "cell_type": "code",
      "source": [
        "# Check to see that 8206 rows were dropped.\n",
        "len(application_df)"
      ],
      "metadata": {
        "colab": {
          "base_uri": "https://localhost:8080/"
        },
        "id": "giwMzZRcUmto",
        "outputId": "d1d64ba6-26a7-45f9-a7d4-8ef659cccc70"
      },
      "execution_count": 13,
      "outputs": [
        {
          "output_type": "execute_result",
          "data": {
            "text/plain": [
              "26093"
            ]
          },
          "metadata": {},
          "execution_count": 13
        }
      ]
    },
    {
      "cell_type": "code",
      "source": [
        "# Convert 'ASK_AMT' column back to integer type.\n",
        "application_df['ASK_AMT'] = application_df['ASK_AMT'].astype(int)"
      ],
      "metadata": {
        "id": "7qhkaED5Wb6c"
      },
      "execution_count": 14,
      "outputs": []
    },
    {
      "cell_type": "code",
      "source": [
        "# Check data types.\n",
        "application_df.dtypes"
      ],
      "metadata": {
        "colab": {
          "base_uri": "https://localhost:8080/"
        },
        "id": "qgz7w0G1Xtcv",
        "outputId": "690c0cc2-4979-4e09-cd8a-f7fa0a24579d"
      },
      "execution_count": 15,
      "outputs": [
        {
          "output_type": "execute_result",
          "data": {
            "text/plain": [
              "APPLICATION_TYPE    object\n",
              "AFFILIATION         object\n",
              "CLASSIFICATION      object\n",
              "USE_CASE            object\n",
              "ORGANIZATION        object\n",
              "INCOME_AMT          object\n",
              "ASK_AMT              int64\n",
              "IS_SUCCESSFUL        int64\n",
              "dtype: object"
            ]
          },
          "metadata": {},
          "execution_count": 15
        }
      ]
    },
    {
      "cell_type": "code",
      "execution_count": 16,
      "metadata": {
        "id": "9t2fqIZKM0Mx",
        "colab": {
          "base_uri": "https://localhost:8080/",
          "height": 317
        },
        "outputId": "70fdacb5-9dc9-4ec1-d699-f14f4f1514d9"
      },
      "outputs": [
        {
          "output_type": "execute_result",
          "data": {
            "text/plain": [
              "   APPLICATION_TYPE_Other  APPLICATION_TYPE_T10  APPLICATION_TYPE_T19  \\\n",
              "0                       0                     1                     0   \n",
              "2                       0                     0                     0   \n",
              "3                       0                     0                     0   \n",
              "5                       0                     0                     0   \n",
              "9                       0                     0                     0   \n",
              "\n",
              "   APPLICATION_TYPE_T3  APPLICATION_TYPE_T4  APPLICATION_TYPE_T5  \\\n",
              "0                    0                    0                    0   \n",
              "2                    0                    0                    1   \n",
              "3                    1                    0                    0   \n",
              "5                    1                    0                    0   \n",
              "9                    0                    0                    1   \n",
              "\n",
              "   APPLICATION_TYPE_T6  APPLICATION_TYPE_T7  APPLICATION_TYPE_T8  \\\n",
              "0                    0                    0                    0   \n",
              "2                    0                    0                    0   \n",
              "3                    0                    0                    0   \n",
              "5                    0                    0                    0   \n",
              "9                    0                    0                    0   \n",
              "\n",
              "   AFFILIATION_CompanySponsored  ...  ORGANIZATION_Trust  INCOME_AMT_0  \\\n",
              "0                             0  ...                   0             1   \n",
              "2                             1  ...                   0             1   \n",
              "3                             1  ...                   1             0   \n",
              "5                             0  ...                   1             1   \n",
              "9                             1  ...                   0             1   \n",
              "\n",
              "   INCOME_AMT_1-9999  INCOME_AMT_10000-24999  INCOME_AMT_100000-499999  \\\n",
              "0                  0                       0                         0   \n",
              "2                  0                       0                         0   \n",
              "3                  0                       1                         0   \n",
              "5                  0                       0                         0   \n",
              "9                  0                       0                         0   \n",
              "\n",
              "   INCOME_AMT_10M-50M  INCOME_AMT_1M-5M  INCOME_AMT_25000-99999  \\\n",
              "0                   0                 0                       0   \n",
              "2                   0                 0                       0   \n",
              "3                   0                 0                       0   \n",
              "5                   0                 0                       0   \n",
              "9                   0                 0                       0   \n",
              "\n",
              "   INCOME_AMT_50M+  INCOME_AMT_5M-10M  \n",
              "0                0                  0  \n",
              "2                0                  0  \n",
              "3                0                  0  \n",
              "5                0                  0  \n",
              "9                0                  0  \n",
              "\n",
              "[5 rows x 39 columns]"
            ],
            "text/html": [
              "\n",
              "  <div id=\"df-80854362-d7a0-453e-bdf4-317228d12b34\">\n",
              "    <div class=\"colab-df-container\">\n",
              "      <div>\n",
              "<style scoped>\n",
              "    .dataframe tbody tr th:only-of-type {\n",
              "        vertical-align: middle;\n",
              "    }\n",
              "\n",
              "    .dataframe tbody tr th {\n",
              "        vertical-align: top;\n",
              "    }\n",
              "\n",
              "    .dataframe thead th {\n",
              "        text-align: right;\n",
              "    }\n",
              "</style>\n",
              "<table border=\"1\" class=\"dataframe\">\n",
              "  <thead>\n",
              "    <tr style=\"text-align: right;\">\n",
              "      <th></th>\n",
              "      <th>APPLICATION_TYPE_Other</th>\n",
              "      <th>APPLICATION_TYPE_T10</th>\n",
              "      <th>APPLICATION_TYPE_T19</th>\n",
              "      <th>APPLICATION_TYPE_T3</th>\n",
              "      <th>APPLICATION_TYPE_T4</th>\n",
              "      <th>APPLICATION_TYPE_T5</th>\n",
              "      <th>APPLICATION_TYPE_T6</th>\n",
              "      <th>APPLICATION_TYPE_T7</th>\n",
              "      <th>APPLICATION_TYPE_T8</th>\n",
              "      <th>AFFILIATION_CompanySponsored</th>\n",
              "      <th>...</th>\n",
              "      <th>ORGANIZATION_Trust</th>\n",
              "      <th>INCOME_AMT_0</th>\n",
              "      <th>INCOME_AMT_1-9999</th>\n",
              "      <th>INCOME_AMT_10000-24999</th>\n",
              "      <th>INCOME_AMT_100000-499999</th>\n",
              "      <th>INCOME_AMT_10M-50M</th>\n",
              "      <th>INCOME_AMT_1M-5M</th>\n",
              "      <th>INCOME_AMT_25000-99999</th>\n",
              "      <th>INCOME_AMT_50M+</th>\n",
              "      <th>INCOME_AMT_5M-10M</th>\n",
              "    </tr>\n",
              "  </thead>\n",
              "  <tbody>\n",
              "    <tr>\n",
              "      <th>0</th>\n",
              "      <td>0</td>\n",
              "      <td>1</td>\n",
              "      <td>0</td>\n",
              "      <td>0</td>\n",
              "      <td>0</td>\n",
              "      <td>0</td>\n",
              "      <td>0</td>\n",
              "      <td>0</td>\n",
              "      <td>0</td>\n",
              "      <td>0</td>\n",
              "      <td>...</td>\n",
              "      <td>0</td>\n",
              "      <td>1</td>\n",
              "      <td>0</td>\n",
              "      <td>0</td>\n",
              "      <td>0</td>\n",
              "      <td>0</td>\n",
              "      <td>0</td>\n",
              "      <td>0</td>\n",
              "      <td>0</td>\n",
              "      <td>0</td>\n",
              "    </tr>\n",
              "    <tr>\n",
              "      <th>2</th>\n",
              "      <td>0</td>\n",
              "      <td>0</td>\n",
              "      <td>0</td>\n",
              "      <td>0</td>\n",
              "      <td>0</td>\n",
              "      <td>1</td>\n",
              "      <td>0</td>\n",
              "      <td>0</td>\n",
              "      <td>0</td>\n",
              "      <td>1</td>\n",
              "      <td>...</td>\n",
              "      <td>0</td>\n",
              "      <td>1</td>\n",
              "      <td>0</td>\n",
              "      <td>0</td>\n",
              "      <td>0</td>\n",
              "      <td>0</td>\n",
              "      <td>0</td>\n",
              "      <td>0</td>\n",
              "      <td>0</td>\n",
              "      <td>0</td>\n",
              "    </tr>\n",
              "    <tr>\n",
              "      <th>3</th>\n",
              "      <td>0</td>\n",
              "      <td>0</td>\n",
              "      <td>0</td>\n",
              "      <td>1</td>\n",
              "      <td>0</td>\n",
              "      <td>0</td>\n",
              "      <td>0</td>\n",
              "      <td>0</td>\n",
              "      <td>0</td>\n",
              "      <td>1</td>\n",
              "      <td>...</td>\n",
              "      <td>1</td>\n",
              "      <td>0</td>\n",
              "      <td>0</td>\n",
              "      <td>1</td>\n",
              "      <td>0</td>\n",
              "      <td>0</td>\n",
              "      <td>0</td>\n",
              "      <td>0</td>\n",
              "      <td>0</td>\n",
              "      <td>0</td>\n",
              "    </tr>\n",
              "    <tr>\n",
              "      <th>5</th>\n",
              "      <td>0</td>\n",
              "      <td>0</td>\n",
              "      <td>0</td>\n",
              "      <td>1</td>\n",
              "      <td>0</td>\n",
              "      <td>0</td>\n",
              "      <td>0</td>\n",
              "      <td>0</td>\n",
              "      <td>0</td>\n",
              "      <td>0</td>\n",
              "      <td>...</td>\n",
              "      <td>1</td>\n",
              "      <td>1</td>\n",
              "      <td>0</td>\n",
              "      <td>0</td>\n",
              "      <td>0</td>\n",
              "      <td>0</td>\n",
              "      <td>0</td>\n",
              "      <td>0</td>\n",
              "      <td>0</td>\n",
              "      <td>0</td>\n",
              "    </tr>\n",
              "    <tr>\n",
              "      <th>9</th>\n",
              "      <td>0</td>\n",
              "      <td>0</td>\n",
              "      <td>0</td>\n",
              "      <td>0</td>\n",
              "      <td>0</td>\n",
              "      <td>1</td>\n",
              "      <td>0</td>\n",
              "      <td>0</td>\n",
              "      <td>0</td>\n",
              "      <td>1</td>\n",
              "      <td>...</td>\n",
              "      <td>0</td>\n",
              "      <td>1</td>\n",
              "      <td>0</td>\n",
              "      <td>0</td>\n",
              "      <td>0</td>\n",
              "      <td>0</td>\n",
              "      <td>0</td>\n",
              "      <td>0</td>\n",
              "      <td>0</td>\n",
              "      <td>0</td>\n",
              "    </tr>\n",
              "  </tbody>\n",
              "</table>\n",
              "<p>5 rows × 39 columns</p>\n",
              "</div>\n",
              "      <button class=\"colab-df-convert\" onclick=\"convertToInteractive('df-80854362-d7a0-453e-bdf4-317228d12b34')\"\n",
              "              title=\"Convert this dataframe to an interactive table.\"\n",
              "              style=\"display:none;\">\n",
              "        \n",
              "  <svg xmlns=\"http://www.w3.org/2000/svg\" height=\"24px\"viewBox=\"0 0 24 24\"\n",
              "       width=\"24px\">\n",
              "    <path d=\"M0 0h24v24H0V0z\" fill=\"none\"/>\n",
              "    <path d=\"M18.56 5.44l.94 2.06.94-2.06 2.06-.94-2.06-.94-.94-2.06-.94 2.06-2.06.94zm-11 1L8.5 8.5l.94-2.06 2.06-.94-2.06-.94L8.5 2.5l-.94 2.06-2.06.94zm10 10l.94 2.06.94-2.06 2.06-.94-2.06-.94-.94-2.06-.94 2.06-2.06.94z\"/><path d=\"M17.41 7.96l-1.37-1.37c-.4-.4-.92-.59-1.43-.59-.52 0-1.04.2-1.43.59L10.3 9.45l-7.72 7.72c-.78.78-.78 2.05 0 2.83L4 21.41c.39.39.9.59 1.41.59.51 0 1.02-.2 1.41-.59l7.78-7.78 2.81-2.81c.8-.78.8-2.07 0-2.86zM5.41 20L4 18.59l7.72-7.72 1.47 1.35L5.41 20z\"/>\n",
              "  </svg>\n",
              "      </button>\n",
              "      \n",
              "  <style>\n",
              "    .colab-df-container {\n",
              "      display:flex;\n",
              "      flex-wrap:wrap;\n",
              "      gap: 12px;\n",
              "    }\n",
              "\n",
              "    .colab-df-convert {\n",
              "      background-color: #E8F0FE;\n",
              "      border: none;\n",
              "      border-radius: 50%;\n",
              "      cursor: pointer;\n",
              "      display: none;\n",
              "      fill: #1967D2;\n",
              "      height: 32px;\n",
              "      padding: 0 0 0 0;\n",
              "      width: 32px;\n",
              "    }\n",
              "\n",
              "    .colab-df-convert:hover {\n",
              "      background-color: #E2EBFA;\n",
              "      box-shadow: 0px 1px 2px rgba(60, 64, 67, 0.3), 0px 1px 3px 1px rgba(60, 64, 67, 0.15);\n",
              "      fill: #174EA6;\n",
              "    }\n",
              "\n",
              "    [theme=dark] .colab-df-convert {\n",
              "      background-color: #3B4455;\n",
              "      fill: #D2E3FC;\n",
              "    }\n",
              "\n",
              "    [theme=dark] .colab-df-convert:hover {\n",
              "      background-color: #434B5C;\n",
              "      box-shadow: 0px 1px 3px 1px rgba(0, 0, 0, 0.15);\n",
              "      filter: drop-shadow(0px 1px 2px rgba(0, 0, 0, 0.3));\n",
              "      fill: #FFFFFF;\n",
              "    }\n",
              "  </style>\n",
              "\n",
              "      <script>\n",
              "        const buttonEl =\n",
              "          document.querySelector('#df-80854362-d7a0-453e-bdf4-317228d12b34 button.colab-df-convert');\n",
              "        buttonEl.style.display =\n",
              "          google.colab.kernel.accessAllowed ? 'block' : 'none';\n",
              "\n",
              "        async function convertToInteractive(key) {\n",
              "          const element = document.querySelector('#df-80854362-d7a0-453e-bdf4-317228d12b34');\n",
              "          const dataTable =\n",
              "            await google.colab.kernel.invokeFunction('convertToInteractive',\n",
              "                                                     [key], {});\n",
              "          if (!dataTable) return;\n",
              "\n",
              "          const docLinkHtml = 'Like what you see? Visit the ' +\n",
              "            '<a target=\"_blank\" href=https://colab.research.google.com/notebooks/data_table.ipynb>data table notebook</a>'\n",
              "            + ' to learn more about interactive tables.';\n",
              "          element.innerHTML = '';\n",
              "          dataTable['output_type'] = 'display_data';\n",
              "          await google.colab.output.renderOutput(dataTable, element);\n",
              "          const docLink = document.createElement('div');\n",
              "          docLink.innerHTML = docLinkHtml;\n",
              "          element.appendChild(docLink);\n",
              "        }\n",
              "      </script>\n",
              "    </div>\n",
              "  </div>\n",
              "  "
            ]
          },
          "metadata": {},
          "execution_count": 16
        }
      ],
      "source": [
        "# Create a list of column names from application_df that hold categorical data.\n",
        "cat_data = application_df.dtypes[application_df.dtypes == 'object'].index.tolist()\n",
        "\n",
        "# Convert categorical data to numeric with `pd.get_dummies`.\n",
        "dummies = pd.get_dummies(application_df[cat_data])\n",
        "dummies.head()"
      ]
    },
    {
      "cell_type": "code",
      "source": [
        "# Merge the dummies data with the original application_df.\n",
        "application_df = application_df.merge(dummies, left_index=True, right_index=True)\n",
        "\n",
        "# Drop the old categorical columns that are not obsolete because of the dummy data.\n",
        "application_df = application_df.drop(columns=cat_data)"
      ],
      "metadata": {
        "id": "HX5Z5N7nXN0E"
      },
      "execution_count": 17,
      "outputs": []
    },
    {
      "cell_type": "code",
      "source": [
        "# Check columns.\n",
        "application_df.columns"
      ],
      "metadata": {
        "colab": {
          "base_uri": "https://localhost:8080/"
        },
        "id": "w8siDhOtZxy4",
        "outputId": "977cfc22-30ee-436e-92a4-e8eccad955af"
      },
      "execution_count": 18,
      "outputs": [
        {
          "output_type": "execute_result",
          "data": {
            "text/plain": [
              "Index(['ASK_AMT', 'IS_SUCCESSFUL', 'APPLICATION_TYPE_Other',\n",
              "       'APPLICATION_TYPE_T10', 'APPLICATION_TYPE_T19', 'APPLICATION_TYPE_T3',\n",
              "       'APPLICATION_TYPE_T4', 'APPLICATION_TYPE_T5', 'APPLICATION_TYPE_T6',\n",
              "       'APPLICATION_TYPE_T7', 'APPLICATION_TYPE_T8',\n",
              "       'AFFILIATION_CompanySponsored', 'AFFILIATION_Family/Parent',\n",
              "       'AFFILIATION_Independent', 'AFFILIATION_National', 'AFFILIATION_Other',\n",
              "       'AFFILIATION_Regional', 'CLASSIFICATION_C1000', 'CLASSIFICATION_C1200',\n",
              "       'CLASSIFICATION_C2000', 'CLASSIFICATION_C2100', 'CLASSIFICATION_C3000',\n",
              "       'CLASSIFICATION_Other', 'USE_CASE_CommunityServ', 'USE_CASE_Heathcare',\n",
              "       'USE_CASE_Other', 'USE_CASE_Preservation', 'USE_CASE_ProductDev',\n",
              "       'ORGANIZATION_Association', 'ORGANIZATION_Co-operative',\n",
              "       'ORGANIZATION_Corporation', 'ORGANIZATION_Trust', 'INCOME_AMT_0',\n",
              "       'INCOME_AMT_1-9999', 'INCOME_AMT_10000-24999',\n",
              "       'INCOME_AMT_100000-499999', 'INCOME_AMT_10M-50M', 'INCOME_AMT_1M-5M',\n",
              "       'INCOME_AMT_25000-99999', 'INCOME_AMT_50M+', 'INCOME_AMT_5M-10M'],\n",
              "      dtype='object')"
            ]
          },
          "metadata": {},
          "execution_count": 18
        }
      ]
    },
    {
      "cell_type": "code",
      "execution_count": 19,
      "metadata": {
        "id": "xGVfB_B0M0Mx"
      },
      "outputs": [],
      "source": [
        "# Split our preprocessed data into our features and target arrays.\n",
        "X = application_df.drop(columns=['IS_SUCCESSFUL'])\n",
        "y = application_df['IS_SUCCESSFUL']\n",
        "\n",
        "# Split the preprocessed data into a training and testing dataset.\n",
        "X_train, X_test, y_train, y_test = train_test_split(X, y, random_state=1)"
      ]
    },
    {
      "cell_type": "code",
      "execution_count": 20,
      "metadata": {
        "id": "8MlL2ko5M0Mx"
      },
      "outputs": [],
      "source": [
        "# Create a StandardScaler instances.\n",
        "scaler = StandardScaler()\n",
        "\n",
        "# Fit the StandardScaler.\n",
        "X_scaler = scaler.fit(X_train)\n",
        "\n",
        "# Scale the data.\n",
        "X_train_scaled = X_scaler.transform(X_train)\n",
        "X_test_scaled = X_scaler.transform(X_test)"
      ]
    },
    {
      "cell_type": "markdown",
      "metadata": {
        "id": "AJn0cX95M0My"
      },
      "source": [
        "## Compile, Train and Evaluate the Model"
      ]
    },
    {
      "cell_type": "code",
      "execution_count": 21,
      "metadata": {
        "id": "yr0XifRxM0My",
        "outputId": "844cf50c-3558-4a48-8def-e57626f40fa6",
        "colab": {
          "base_uri": "https://localhost:8080/"
        }
      },
      "outputs": [
        {
          "output_type": "stream",
          "name": "stdout",
          "text": [
            "Model: \"sequential\"\n",
            "_________________________________________________________________\n",
            " Layer (type)                Output Shape              Param #   \n",
            "=================================================================\n",
            " dense (Dense)               (None, 16)                656       \n",
            "                                                                 \n",
            " dense_1 (Dense)             (None, 16)                272       \n",
            "                                                                 \n",
            " dense_2 (Dense)             (None, 1)                 17        \n",
            "                                                                 \n",
            "=================================================================\n",
            "Total params: 945\n",
            "Trainable params: 945\n",
            "Non-trainable params: 0\n",
            "_________________________________________________________________\n"
          ]
        }
      ],
      "source": [
        "# Define the model - deep neural net, i.e., the number of input features and hidden nodes for each layer.\n",
        "nn = tf.keras.models.Sequential()\n",
        "\n",
        "# First hidden layer.\n",
        "nn.add(tf.keras.layers.Dense(units=16, activation='relu', input_dim=40))\n",
        "\n",
        "# Second hidden layer.\n",
        "nn.add(tf.keras.layers.Dense(units=16, activation='relu'))\n",
        "\n",
        "# Output layer.\n",
        "nn.add(tf.keras.layers.Dense(units=1, activation='sigmoid'))\n",
        "\n",
        "# Check the structure of the model.\n",
        "nn.summary()"
      ]
    },
    {
      "cell_type": "code",
      "execution_count": 22,
      "metadata": {
        "id": "P4OCtg09M0My"
      },
      "outputs": [],
      "source": [
        "# Compile the model.\n",
        "nn.compile(loss='binary_crossentropy', optimizer='adam', metrics=['accuracy'])"
      ]
    },
    {
      "cell_type": "code",
      "execution_count": 23,
      "metadata": {
        "id": "dWsBofl_M0My",
        "outputId": "8f1ad9f0-63e6-4dc4-d7ee-d2a1c0e8c27a",
        "colab": {
          "base_uri": "https://localhost:8080/"
        }
      },
      "outputs": [
        {
          "output_type": "stream",
          "name": "stdout",
          "text": [
            "Epoch 1/50\n",
            "612/612 [==============================] - 2s 2ms/step - loss: 0.5765 - accuracy: 0.7236\n",
            "Epoch 2/50\n",
            "612/612 [==============================] - 1s 2ms/step - loss: 0.5405 - accuracy: 0.7438\n",
            "Epoch 3/50\n",
            "612/612 [==============================] - 1s 2ms/step - loss: 0.5346 - accuracy: 0.7464\n",
            "Epoch 4/50\n",
            "612/612 [==============================] - 1s 2ms/step - loss: 0.5312 - accuracy: 0.7479\n",
            "Epoch 5/50\n",
            "612/612 [==============================] - 1s 2ms/step - loss: 0.5298 - accuracy: 0.7491\n",
            "Epoch 6/50\n",
            "612/612 [==============================] - 2s 3ms/step - loss: 0.5284 - accuracy: 0.7501\n",
            "Epoch 7/50\n",
            "612/612 [==============================] - 2s 3ms/step - loss: 0.5274 - accuracy: 0.7498\n",
            "Epoch 8/50\n",
            "612/612 [==============================] - 1s 2ms/step - loss: 0.5263 - accuracy: 0.7523\n",
            "Epoch 9/50\n",
            "612/612 [==============================] - 1s 2ms/step - loss: 0.5261 - accuracy: 0.7506\n",
            "Epoch 10/50\n",
            "612/612 [==============================] - 1s 2ms/step - loss: 0.5252 - accuracy: 0.7519\n",
            "Epoch 11/50\n",
            "612/612 [==============================] - 1s 2ms/step - loss: 0.5248 - accuracy: 0.7519\n",
            "Epoch 12/50\n",
            "612/612 [==============================] - 1s 2ms/step - loss: 0.5242 - accuracy: 0.7519\n",
            "Epoch 13/50\n",
            "612/612 [==============================] - 1s 2ms/step - loss: 0.5237 - accuracy: 0.7528\n",
            "Epoch 14/50\n",
            "612/612 [==============================] - 1s 2ms/step - loss: 0.5242 - accuracy: 0.7519\n",
            "Epoch 15/50\n",
            "612/612 [==============================] - 1s 2ms/step - loss: 0.5236 - accuracy: 0.7532\n",
            "Epoch 16/50\n",
            "612/612 [==============================] - 1s 2ms/step - loss: 0.5230 - accuracy: 0.7535\n",
            "Epoch 17/50\n",
            "612/612 [==============================] - 2s 3ms/step - loss: 0.5227 - accuracy: 0.7520\n",
            "Epoch 18/50\n",
            "612/612 [==============================] - 1s 2ms/step - loss: 0.5226 - accuracy: 0.7536\n",
            "Epoch 19/50\n",
            "612/612 [==============================] - 1s 2ms/step - loss: 0.5221 - accuracy: 0.7530\n",
            "Epoch 20/50\n",
            "612/612 [==============================] - 1s 2ms/step - loss: 0.5224 - accuracy: 0.7547\n",
            "Epoch 21/50\n",
            "612/612 [==============================] - 1s 2ms/step - loss: 0.5223 - accuracy: 0.7530\n",
            "Epoch 22/50\n",
            "612/612 [==============================] - 1s 2ms/step - loss: 0.5216 - accuracy: 0.7530\n",
            "Epoch 23/50\n",
            "612/612 [==============================] - 1s 2ms/step - loss: 0.5216 - accuracy: 0.7527\n",
            "Epoch 24/50\n",
            "612/612 [==============================] - 1s 2ms/step - loss: 0.5215 - accuracy: 0.7534\n",
            "Epoch 25/50\n",
            "612/612 [==============================] - 1s 2ms/step - loss: 0.5215 - accuracy: 0.7547\n",
            "Epoch 26/50\n",
            "612/612 [==============================] - 1s 2ms/step - loss: 0.5210 - accuracy: 0.7540\n",
            "Epoch 27/50\n",
            "612/612 [==============================] - 2s 3ms/step - loss: 0.5213 - accuracy: 0.7530\n",
            "Epoch 28/50\n",
            "612/612 [==============================] - 2s 3ms/step - loss: 0.5213 - accuracy: 0.7551\n",
            "Epoch 29/50\n",
            "612/612 [==============================] - 1s 2ms/step - loss: 0.5211 - accuracy: 0.7543\n",
            "Epoch 30/50\n",
            "612/612 [==============================] - 1s 2ms/step - loss: 0.5206 - accuracy: 0.7539\n",
            "Epoch 31/50\n",
            "612/612 [==============================] - 1s 2ms/step - loss: 0.5209 - accuracy: 0.7546\n",
            "Epoch 32/50\n",
            "612/612 [==============================] - 1s 2ms/step - loss: 0.5203 - accuracy: 0.7533\n",
            "Epoch 33/50\n",
            "612/612 [==============================] - 1s 2ms/step - loss: 0.5204 - accuracy: 0.7536\n",
            "Epoch 34/50\n",
            "612/612 [==============================] - 1s 2ms/step - loss: 0.5203 - accuracy: 0.7538\n",
            "Epoch 35/50\n",
            "612/612 [==============================] - 1s 2ms/step - loss: 0.5205 - accuracy: 0.7544\n",
            "Epoch 36/50\n",
            "612/612 [==============================] - 1s 2ms/step - loss: 0.5203 - accuracy: 0.7534\n",
            "Epoch 37/50\n",
            "612/612 [==============================] - 2s 3ms/step - loss: 0.5197 - accuracy: 0.7545\n",
            "Epoch 38/50\n",
            "612/612 [==============================] - 1s 2ms/step - loss: 0.5197 - accuracy: 0.7536\n",
            "Epoch 39/50\n",
            "612/612 [==============================] - 1s 2ms/step - loss: 0.5198 - accuracy: 0.7550\n",
            "Epoch 40/50\n",
            "612/612 [==============================] - 1s 2ms/step - loss: 0.5196 - accuracy: 0.7549\n",
            "Epoch 41/50\n",
            "612/612 [==============================] - 1s 2ms/step - loss: 0.5200 - accuracy: 0.7534\n",
            "Epoch 42/50\n",
            "612/612 [==============================] - 1s 2ms/step - loss: 0.5197 - accuracy: 0.7539\n",
            "Epoch 43/50\n",
            "612/612 [==============================] - 1s 2ms/step - loss: 0.5200 - accuracy: 0.7555\n",
            "Epoch 44/50\n",
            "612/612 [==============================] - 1s 2ms/step - loss: 0.5200 - accuracy: 0.7533\n",
            "Epoch 45/50\n",
            "612/612 [==============================] - 1s 2ms/step - loss: 0.5196 - accuracy: 0.7542\n",
            "Epoch 46/50\n",
            "612/612 [==============================] - 1s 2ms/step - loss: 0.5194 - accuracy: 0.7553\n",
            "Epoch 47/50\n",
            "612/612 [==============================] - 2s 3ms/step - loss: 0.5188 - accuracy: 0.7543\n",
            "Epoch 48/50\n",
            "612/612 [==============================] - 2s 3ms/step - loss: 0.5196 - accuracy: 0.7545\n",
            "Epoch 49/50\n",
            "612/612 [==============================] - 1s 2ms/step - loss: 0.5192 - accuracy: 0.7556\n",
            "Epoch 50/50\n",
            "612/612 [==============================] - 1s 2ms/step - loss: 0.5194 - accuracy: 0.7548\n"
          ]
        }
      ],
      "source": [
        "# Train the model.\n",
        "fit_model = nn.fit(X_train_scaled, y_train, epochs=50)"
      ]
    },
    {
      "cell_type": "code",
      "execution_count": 24,
      "metadata": {
        "id": "BQV7B9DHM0Mz",
        "outputId": "f97b3243-8c74-48c4-c72d-c5668bb21e0e",
        "colab": {
          "base_uri": "https://localhost:8080/"
        }
      },
      "outputs": [
        {
          "output_type": "stream",
          "name": "stdout",
          "text": [
            "204/204 - 0s - loss: 0.5416 - accuracy: 0.7394 - 418ms/epoch - 2ms/step\n",
            "Loss: 0.5416107773780823, Accuracy: 0.7394236922264099\n"
          ]
        }
      ],
      "source": [
        "# Evaluate the model using the test data.\n",
        "model_loss, model_accuracy = nn.evaluate(X_test_scaled, y_test, verbose=2)\n",
        "print(f\"Loss: {model_loss}, Accuracy: {model_accuracy}\")"
      ]
    },
    {
      "cell_type": "code",
      "execution_count": 25,
      "metadata": {
        "id": "BMjYuulnM0Mz"
      },
      "outputs": [],
      "source": [
        "# Export our model to HDF5 file.\n",
        "nn.save('AlphabetSoupCharity_Optimization_4.h5')"
      ]
    }
  ],
  "metadata": {
    "kernelspec": {
      "display_name": "Python 3",
      "language": "python",
      "name": "python3"
    },
    "language_info": {
      "codemirror_mode": {
        "name": "ipython",
        "version": 3
      },
      "file_extension": ".py",
      "mimetype": "text/x-python",
      "name": "python",
      "nbconvert_exporter": "python",
      "pygments_lexer": "ipython3",
      "version": "3.-1.-1"
    },
    "vscode": {
      "interpreter": {
        "hash": "31f2aee4e71d21fbe5cf8b01ff0e069b9275f58929596ceb00d14d90e3e16cd6"
      }
    },
    "colab": {
      "provenance": []
    }
  },
  "nbformat": 4,
  "nbformat_minor": 0
}